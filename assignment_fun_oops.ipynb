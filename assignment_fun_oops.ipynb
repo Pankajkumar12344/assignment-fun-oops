{
  "nbformat": 4,
  "nbformat_minor": 0,
  "metadata": {
    "colab": {
      "provenance": []
    },
    "kernelspec": {
      "name": "python3",
      "display_name": "Python 3"
    },
    "language_info": {
      "name": "python"
    }
  },
  "cells": [
    {
      "cell_type": "markdown",
      "source": [
        "Question 1) Explain the importance of function\n",
        "1. Mathematical Foundation\n",
        "Mapping Relationships: Functions define a relationship between sets, allowing us to express how one quantity depends on another. For example, in algebra, a function can describe how the output (dependent variable) changes in response to different inputs (independent variables).\n",
        "Modeling Real-World Phenomena: Functions are used to model various real-world situations, such as population growth, economic trends, and physical laws (e.g., Newton's laws of motion).\n",
        "2. Computer Science\n",
        "Modularity and Reusability: Functions allow programmers to break down complex problems into smaller, manageable parts. A function can be written once and reused multiple times, promoting code reusability and reducing redundancy.\n",
        "Abstraction: Functions provide a way to abstract away details, allowing programmers to focus on higher-level logic without getting bogged down in implementation specifics. This abstraction makes it easier to understand and maintain code.\n",
        "Encapsulation: Functions can encapsulate behavior, meaning that they can manage their own state and data, leading to better organization and structure within code.\n",
        "3. Problem Solving\n",
        "Structured Approach: Functions help in structuring solutions to problems. By defining a function for a specific task, you can isolate that task and focus on solving it independently of other parts of the program or equation.\n",
        "Testing and Debugging: Functions make it easier to test and debug code. You can test individual functions in isolation to ensure they work correctly before integrating them into larger systems.\n",
        "4. Mathematical Analysis\n",
        "Calculus and Analysis: In calculus, functions are central to concepts such as limits, derivatives, and integrals. They allow for the exploration of change and accumulation, which are foundational concepts in mathematics.\n",
        "Graphing and Visualization: Functions can be represented graphically, providing a visual way to understand relationships and behaviors of variables. This is crucial in both mathematics and data analysis\n"
      ],
      "metadata": {
        "id": "ty1IOcATIIKO"
      }
    },
    {
      "cell_type": "markdown",
      "source": [
        "Question 2) Write a basic function to greet students"
      ],
      "metadata": {
        "id": "RNBL_a54IP1G"
      }
    },
    {
      "cell_type": "code",
      "source": [
        "def greet_student(name):\n",
        "    \"\"\"Function to greet a student by name.\"\"\"\n",
        "    greeting = f\"Hello, {name}! Welcome to the class.\"\n",
        "    print(greeting)\n",
        "\n",
        "# Example usage\n",
        "greet_student(\"Alice\")\n",
        "greet_student(\"Bob\")"
      ],
      "metadata": {
        "colab": {
          "base_uri": "https://localhost:8080/"
        },
        "id": "O4KmcgpLINJ1",
        "outputId": "59a84b78-9a66-4d87-b05a-57cb92c8ac3d"
      },
      "execution_count": 1,
      "outputs": [
        {
          "output_type": "stream",
          "name": "stdout",
          "text": [
            "Hello, Alice! Welcome to the class.\n",
            "Hello, Bob! Welcome to the class.\n"
          ]
        }
      ]
    },
    {
      "cell_type": "markdown",
      "source": [
        "  Question 3) What is the difference between print and return statements\n",
        "\n",
        "Print Statment:\n",
        "\n",
        "Purpose : The print function is used to output data to the console or standard output. It is primarily for displaying information to the user.\n",
        "Usage: It can take multiple arguments and can format output, but it does not affect the flow of the program or the values that functions produce"
      ],
      "metadata": {
        "id": "qHCf9BPRIaWH"
      }
    },
    {
      "cell_type": "code",
      "source": [
        "# Example of print Statment\n",
        "def greet(name):\n",
        "    print(\"Hello, \" + name)\n",
        "\n",
        "greet(\"Alice\")  # Output: Hello, Alice"
      ],
      "metadata": {
        "colab": {
          "base_uri": "https://localhost:8080/"
        },
        "id": "_E21oso7Ih70",
        "outputId": "92c7af5f-e485-43c6-a76c-662e8f18096a"
      },
      "execution_count": 2,
      "outputs": [
        {
          "output_type": "stream",
          "name": "stdout",
          "text": [
            "Hello, Alice\n"
          ]
        }
      ]
    },
    {
      "cell_type": "markdown",
      "source": [
        "Return Statement:\n",
        "\n",
        "Purpose: The return statement is used within a function to send a value back to the caller of the function. It effectively ends the function execution and provides a result.\n",
        "Usage: A function can return a single value (or multiple values as a tuple), and once a return statement is executed, the function terminates"
      ],
      "metadata": {
        "id": "-bQ-p7b7IsFj"
      }
    },
    {
      "cell_type": "code",
      "source": [
        "def add(a, b):\n",
        "    return a + b\n",
        "\n",
        "result = add(2, 3)  # result will be 5\n"
      ],
      "metadata": {
        "id": "Alt4wxZPItUY"
      },
      "execution_count": 3,
      "outputs": []
    },
    {
      "cell_type": "markdown",
      "source": [
        "\n",
        "Question 4 ) What are *args and **kwargs?\n",
        "\n",
        "*args:\n",
        "\n",
        "Purpose: Allows you to pass a variable number of non-keyword arguments to a function.\n",
        "Usage: It collects additional positional arguments as a tuple\n",
        "\n"
      ],
      "metadata": {
        "id": "OFuIevJQI2RP"
      }
    },
    {
      "cell_type": "code",
      "source": [
        "def example_function(*args):\n",
        "    for arg in args:\n",
        "        print(arg)\n",
        "\n",
        "example_function(1, 2, 3)  # Output: 1 2 3\n",
        "example_function('a', 'b')  # Output: a b"
      ],
      "metadata": {
        "colab": {
          "base_uri": "https://localhost:8080/"
        },
        "id": "AqdVpdtXI6C7",
        "outputId": "b83631ad-d186-4cae-d2d3-cabc4cbcdeda"
      },
      "execution_count": 4,
      "outputs": [
        {
          "output_type": "stream",
          "name": "stdout",
          "text": [
            "1\n",
            "2\n",
            "3\n",
            "a\n",
            "b\n"
          ]
        }
      ]
    },
    {
      "cell_type": "markdown",
      "source": [
        "**kwargs:\n",
        "\n",
        "Purpose: Allows you to pass a variable number of keyword arguments (i.e., named arguments) to a function.\n",
        "Usage: It collects additional keyword arguments as a dictionary"
      ],
      "metadata": {
        "id": "RNUiDb4GJAzU"
      }
    },
    {
      "cell_type": "code",
      "source": [
        "def example_function(**kwargs):\n",
        "    for key, value in kwargs.items():\n",
        "        print(f\"{key}: {value}\")\n",
        "\n",
        "example_function(name=\"Alice\", age=30)\n",
        "# Output:\n",
        "# name: Alice\n",
        "# age: 30"
      ],
      "metadata": {
        "colab": {
          "base_uri": "https://localhost:8080/"
        },
        "id": "YYoCS7gJJFul",
        "outputId": "7e67a782-af8d-40ab-826e-1321f0c35be4"
      },
      "execution_count": 5,
      "outputs": [
        {
          "output_type": "stream",
          "name": "stdout",
          "text": [
            "name: Alice\n",
            "age: 30\n"
          ]
        }
      ]
    },
    {
      "cell_type": "markdown",
      "source": [
        "Question 5) Explain the iterator function?\n",
        "\n",
        "In Python, an iterator is an object that allows you to traverse through a collection (like a list, tuple, dictionary, or set) one element at a time without needing to know the underlying structure of the collection. The iterator protocol consists of two main methods: __iter__() and __next__()"
      ],
      "metadata": {
        "id": "LwxEG-LiJIaS"
      }
    },
    {
      "cell_type": "markdown",
      "source": [
        "Question 6) Write a code the generates the squares of number from 1 to n using a generator"
      ],
      "metadata": {
        "id": "8jAWMv55JMbk"
      }
    },
    {
      "cell_type": "code",
      "source": [
        "def generate_squares(n):\n",
        "    for i in range(1, n + 1):\n",
        "        yield i * i\n",
        "\n",
        "# Example usage\n",
        "n = 10\n",
        "squares_generator = generate_squares(n)\n",
        "\n",
        "# Print the squares\n",
        "for square in squares_generator:\n",
        "    print(square)"
      ],
      "metadata": {
        "colab": {
          "base_uri": "https://localhost:8080/"
        },
        "id": "_Zy9xsdYJOue",
        "outputId": "86c136e9-64cf-4367-ad85-fc121e1aa99d"
      },
      "execution_count": 6,
      "outputs": [
        {
          "output_type": "stream",
          "name": "stdout",
          "text": [
            "1\n",
            "4\n",
            "9\n",
            "16\n",
            "25\n",
            "36\n",
            "49\n",
            "64\n",
            "81\n",
            "100\n"
          ]
        }
      ]
    },
    {
      "cell_type": "markdown",
      "source": [
        "Question 6) Write a code that generates palindromic number up to n using a generator"
      ],
      "metadata": {
        "id": "vljquk_YJVfq"
      }
    },
    {
      "cell_type": "code",
      "source": [
        "def is_palindrome(num):\n",
        "    \"\"\"Check if a number is a palindrome.\"\"\"\n",
        "    return str(num) == str(num)[::-1]\n",
        "\n",
        "def generate_palindromic_numbers(n):\n",
        "    \"\"\"Generator that yields palindromic numbers up to n.\"\"\"\n",
        "    for i in range(1, n + 1):\n",
        "        if is_palindrome(i):\n",
        "            yield i\n",
        "\n",
        "# Example usage\n",
        "n = 100\n",
        "palindrome_generator = generate_palindromic_numbers(n)\n",
        "\n",
        "# Print the palindromic numbers\n",
        "for palindrome in palindrome_generator:\n",
        "    print(palindrome)"
      ],
      "metadata": {
        "colab": {
          "base_uri": "https://localhost:8080/"
        },
        "id": "x95XGQ62JWir",
        "outputId": "ea99e07b-4fd2-411d-a88f-251c6ab9b34a"
      },
      "execution_count": 7,
      "outputs": [
        {
          "output_type": "stream",
          "name": "stdout",
          "text": [
            "1\n",
            "2\n",
            "3\n",
            "4\n",
            "5\n",
            "6\n",
            "7\n",
            "8\n",
            "9\n",
            "11\n",
            "22\n",
            "33\n",
            "44\n",
            "55\n",
            "66\n",
            "77\n",
            "88\n",
            "99\n"
          ]
        }
      ]
    },
    {
      "cell_type": "markdown",
      "source": [
        "Question 7) Write a code that generates even number from 2 to n using a generator"
      ],
      "metadata": {
        "id": "j2sNYhwbJcqs"
      }
    },
    {
      "cell_type": "code",
      "source": [
        "def generate_even_numbers(n):\n",
        "    \"\"\"Generator that yields even numbers from 2 to n.\"\"\"\n",
        "    for i in range(2, n+1 , 2):  # Start from 2, go to n, step by 2\n",
        "        yield i\n",
        "\n",
        "# Example usage\n",
        "n = 20\n",
        "even_number_generator = generate_even_numbers(n)\n",
        "\n",
        "# Print the even numbers\n",
        "for even_number in even_number_generator:\n",
        "    print(even_number)"
      ],
      "metadata": {
        "colab": {
          "base_uri": "https://localhost:8080/"
        },
        "id": "Jv7HvopvJdW5",
        "outputId": "4cba2850-86ec-43b2-cfa1-4e8cca6ddaab"
      },
      "execution_count": 8,
      "outputs": [
        {
          "output_type": "stream",
          "name": "stdout",
          "text": [
            "2\n",
            "4\n",
            "6\n",
            "8\n",
            "10\n",
            "12\n",
            "14\n",
            "16\n",
            "18\n",
            "20\n"
          ]
        }
      ]
    },
    {
      "cell_type": "markdown",
      "source": [
        "Question 8) Write a code generates power of two up to n using a generator"
      ],
      "metadata": {
        "id": "WP8fW1SuJk2r"
      }
    },
    {
      "cell_type": "code",
      "source": [
        "def generate_powers_of_two(n):\n",
        "    \"\"\"Generator that yields powers of two up to n.\"\"\"\n",
        "    power = 1  # Start with 2^0\n",
        "    while power <= n:\n",
        "        yield power\n",
        "        power *= 2  # Move to the next power of two\n",
        "\n",
        "# Example usage\n",
        "n = 100\n",
        "powers_of_two_generator = generate_powers_of_two(n)\n",
        "\n",
        "# Print the powers of two\n",
        "for power in powers_of_two_generator:\n",
        "    print(power)"
      ],
      "metadata": {
        "colab": {
          "base_uri": "https://localhost:8080/"
        },
        "id": "2bggu-5pJlmx",
        "outputId": "40178049-2da9-420b-c427-5ee8c6d63dca"
      },
      "execution_count": 9,
      "outputs": [
        {
          "output_type": "stream",
          "name": "stdout",
          "text": [
            "1\n",
            "2\n",
            "4\n",
            "8\n",
            "16\n",
            "32\n",
            "64\n"
          ]
        }
      ]
    },
    {
      "cell_type": "markdown",
      "source": [
        "Question 9) Write a code that generates prime number up to n using a generator"
      ],
      "metadata": {
        "id": "DmmecDv0JrKB"
      }
    },
    {
      "cell_type": "code",
      "source": [
        "def is_prime(num):\n",
        "    \"\"\"Check if a number is prime.\"\"\"\n",
        "    if num <= 1:\n",
        "        return False\n",
        "    for i in range(2, int(num**0.5) + 1):\n",
        "        if num % i == 0:\n",
        "            return False\n",
        "    return True\n",
        "\n",
        "def generate_prime_numbers(n):\n",
        "    \"\"\"Generator that yields prime numbers up to n.\"\"\"\n",
        "    for num in range(2, n + 1):\n",
        "        if is_prime(num):\n",
        "            yield num\n",
        "\n",
        "# Example usage\n",
        "n = 50\n",
        "prime_number_generator = generate_prime_numbers(n)\n",
        "\n",
        "# Print the prime numbers\n",
        "for prime in prime_number_generator:\n",
        "    print(prime)\n"
      ],
      "metadata": {
        "colab": {
          "base_uri": "https://localhost:8080/"
        },
        "id": "VvcFaQclJr3t",
        "outputId": "f4f7c440-16b9-441e-e7d0-40f0ecd410f3"
      },
      "execution_count": 10,
      "outputs": [
        {
          "output_type": "stream",
          "name": "stdout",
          "text": [
            "2\n",
            "3\n",
            "5\n",
            "7\n",
            "11\n",
            "13\n",
            "17\n",
            "19\n",
            "23\n",
            "29\n",
            "31\n",
            "37\n",
            "41\n",
            "43\n",
            "47\n"
          ]
        }
      ]
    },
    {
      "cell_type": "markdown",
      "source": [
        "Question 10) Write a code that uses a lambda function to calculator the sum of two number"
      ],
      "metadata": {
        "id": "RFmvIVOSJwSp"
      }
    },
    {
      "cell_type": "code",
      "source": [
        "# Define a lambda function to calculate the sum of two numbers\n",
        "sum_two_numbers = lambda x, y: x + y\n",
        "\n",
        "# Example usage\n",
        "num1 = 5\n",
        "num2 = 10\n",
        "result = sum_two_numbers(num1, num2)\n",
        "\n",
        "# Print the result\n",
        "print(f\"The sum of {num1} and {num2} is: {result}\")"
      ],
      "metadata": {
        "colab": {
          "base_uri": "https://localhost:8080/"
        },
        "id": "tNvWLRVQJzWf",
        "outputId": "6b3c43a3-8432-4675-9553-cce0e7cde1ef"
      },
      "execution_count": 11,
      "outputs": [
        {
          "output_type": "stream",
          "name": "stdout",
          "text": [
            "The sum of 5 and 10 is: 15\n"
          ]
        }
      ]
    },
    {
      "cell_type": "markdown",
      "source": [
        "Question 11)  Write a code that uses a lambda function to calculate the square of a given number"
      ],
      "metadata": {
        "id": "E7-GeKQ3J4cg"
      }
    },
    {
      "cell_type": "code",
      "source": [
        "# Define a lambda function to calculate the square of a number\n",
        "square = lambda x: x ** 2\n",
        "\n",
        "# Example usage\n",
        "number = 7\n",
        "result = square(number)\n",
        "\n",
        "# Print the result\n",
        "print(f\"The square of {number} is: {result}\")"
      ],
      "metadata": {
        "colab": {
          "base_uri": "https://localhost:8080/"
        },
        "id": "Ra7LQtDUJ5Rg",
        "outputId": "123f2b84-0a1c-433b-b2db-d0917c070f4d"
      },
      "execution_count": 12,
      "outputs": [
        {
          "output_type": "stream",
          "name": "stdout",
          "text": [
            "The square of 7 is: 49\n"
          ]
        }
      ]
    },
    {
      "cell_type": "markdown",
      "source": [
        "Question 12)  Write a code that uses a lambda function to check whether a given number is even or odd"
      ],
      "metadata": {
        "id": "guL-2JoWJ8kE"
      }
    },
    {
      "cell_type": "code",
      "source": [
        "# Define a lambda function to check if a number is even\n",
        "is_even = lambda x: x % 2 == 0\n",
        "\n",
        "# Example usage\n",
        "number = 10\n",
        "\n",
        "# Check if the number is even or odd\n",
        "if is_even(number):\n",
        "    print(f\"{number} is even.\")\n",
        "else:\n",
        "    print(f\"{number} is odd.\")"
      ],
      "metadata": {
        "colab": {
          "base_uri": "https://localhost:8080/"
        },
        "id": "716BqOKmJ-u5",
        "outputId": "5734e186-8b77-4c77-dee0-f0f4d7c9fb5b"
      },
      "execution_count": 13,
      "outputs": [
        {
          "output_type": "stream",
          "name": "stdout",
          "text": [
            "10 is even.\n"
          ]
        }
      ]
    },
    {
      "cell_type": "markdown",
      "source": [
        "Question 13)  Write a code that uses a lambda function to concatenate two strings"
      ],
      "metadata": {
        "id": "RZ3TAC6uKDfw"
      }
    },
    {
      "cell_type": "code",
      "source": [
        "# Define a lambda function to concatenate two strings\n",
        "concat_strings = lambda str1, str2: str1 + str2\n",
        "\n",
        "# Example usage\n",
        "string1 = \"Hello, \"\n",
        "string2 = \"world!\"\n",
        "result = concat_strings(string1, string2)\n",
        "\n",
        "# Print the result\n",
        "print(f\"The concatenated string is: '{result}'\")"
      ],
      "metadata": {
        "colab": {
          "base_uri": "https://localhost:8080/"
        },
        "id": "jcY9ZyyVKEhD",
        "outputId": "8024c9d4-20e6-4ba2-860c-a66164c33f2b"
      },
      "execution_count": 14,
      "outputs": [
        {
          "output_type": "stream",
          "name": "stdout",
          "text": [
            "The concatenated string is: 'Hello, world!'\n"
          ]
        }
      ]
    },
    {
      "cell_type": "markdown",
      "source": [
        "Question 14)  Write a code that uses a lambda function to find the maximum of three given numbers"
      ],
      "metadata": {
        "id": "9IAqm7gyKHxA"
      }
    },
    {
      "cell_type": "code",
      "source": [
        "# Define a lambda function to find the maximum of three numbers\n",
        "max_of_three = lambda a, b, c: max(a, b, c)\n",
        "\n",
        "# Example usage\n",
        "num1 = 10\n",
        "num2 = 25\n",
        "num3 = 15\n",
        "\n",
        "result = max_of_three(num1, num2, num3)\n",
        "\n",
        "# Print the result\n",
        "print(f\"The maximum of {num1}, {num2}, and {num3} is: {result}\")"
      ],
      "metadata": {
        "colab": {
          "base_uri": "https://localhost:8080/"
        },
        "id": "3R458RFWKJlT",
        "outputId": "69813ce5-395e-4e58-eab0-c592bf759c49"
      },
      "execution_count": 15,
      "outputs": [
        {
          "output_type": "stream",
          "name": "stdout",
          "text": [
            "The maximum of 10, 25, and 15 is: 25\n"
          ]
        }
      ]
    },
    {
      "cell_type": "markdown",
      "source": [
        "Question 15)  Write a code that generates the squares of even numbers from a given list"
      ],
      "metadata": {
        "id": "2yuXpGaMKNqY"
      }
    },
    {
      "cell_type": "code",
      "source": [
        "# Given list of numbers\n",
        "numbers = [1, 2, 3, 4, 5, 6, 7, 8, 9, 10]\n",
        "\n",
        "# Use a lambda function and list comprehension to get squares of even numbers\n",
        "squares_of_even = [x**2 for x in numbers if (lambda x: x % 2 == 0)(x)]\n",
        "\n",
        "# Print the result\n",
        "print(\"Squares of even numbers:\", squares_of_even)"
      ],
      "metadata": {
        "colab": {
          "base_uri": "https://localhost:8080/"
        },
        "id": "gRKZGQmUKOe5",
        "outputId": "191a0561-194d-4cf0-9f0b-89783871b2f7"
      },
      "execution_count": 16,
      "outputs": [
        {
          "output_type": "stream",
          "name": "stdout",
          "text": [
            "Squares of even numbers: [4, 16, 36, 64, 100]\n"
          ]
        }
      ]
    },
    {
      "cell_type": "markdown",
      "source": [
        "Question 16) Write a code that calculates the product of positive numbers from a given list"
      ],
      "metadata": {
        "id": "sWMRLk9HKSdO"
      }
    },
    {
      "cell_type": "code",
      "source": [
        "from functools import reduce\n",
        "\n",
        "# Given list of numbers\n",
        "numbers = [1, -2, 3, 4, -5, 6, 0, -7, 8]\n",
        "\n",
        "# Use reduce and a lambda function to calculate the product of positive numbers\n",
        "product_of_positive = reduce(lambda x, y: x * y, (x for x in numbers if x > 0), 1)\n",
        "\n",
        "# Print the result\n",
        "print(\"Product of positive numbers:\", product_of_positive)"
      ],
      "metadata": {
        "colab": {
          "base_uri": "https://localhost:8080/"
        },
        "id": "S1HLHcV0KVPv",
        "outputId": "ecef9cb0-cd38-4d78-c9eb-ea3ae30de0b1"
      },
      "execution_count": 17,
      "outputs": [
        {
          "output_type": "stream",
          "name": "stdout",
          "text": [
            "Product of positive numbers: 576\n"
          ]
        }
      ]
    },
    {
      "cell_type": "markdown",
      "source": [
        "Question 17)\n",
        "Write a code that doubles the values of odd numbers from a given list"
      ],
      "metadata": {
        "id": "jXcTIhGhKZkP"
      }
    },
    {
      "cell_type": "code",
      "source": [
        "# Given list of numbers\n",
        "numbers = [1, 2, 3, 4, 5, 6, 7, 8, 9, 10]\n",
        "\n",
        "# Use a list comprehension to double the values of odd numbers\n",
        "doubled_odds = [x * 2 if x % 2 != 0 else x for x in numbers]\n",
        "\n",
        "# Print the result\n",
        "print(\"Doubled values of odd numbers:\", doubled_odds)"
      ],
      "metadata": {
        "colab": {
          "base_uri": "https://localhost:8080/"
        },
        "id": "zj3o9RfJKaWy",
        "outputId": "4cc92450-1b74-4a47-d307-97622d1e38f5"
      },
      "execution_count": 18,
      "outputs": [
        {
          "output_type": "stream",
          "name": "stdout",
          "text": [
            "Doubled values of odd numbers: [2, 2, 6, 4, 10, 6, 14, 8, 18, 10]\n"
          ]
        }
      ]
    },
    {
      "cell_type": "markdown",
      "source": [
        "Question 18)  Write a code that calculates the sum of cubes of numbers from a given list"
      ],
      "metadata": {
        "id": "30Wa_l6PKeS_"
      }
    },
    {
      "cell_type": "code",
      "source": [
        "# Given list of numbers\n",
        "numbers = [1, 2, 3, 4, 5]\n",
        "\n",
        "# Calculate the sum of cubes using sum and a generator expression\n",
        "sum_of_cubes = sum(number ** 3 for number in numbers)\n",
        "\n",
        "# Print the result\n",
        "print(\"Sum of cubes:\", sum_of_cubes)"
      ],
      "metadata": {
        "colab": {
          "base_uri": "https://localhost:8080/"
        },
        "id": "7XjlUqk0Ke8d",
        "outputId": "5397a990-d028-427b-a350-c8e41b5086f0"
      },
      "execution_count": 19,
      "outputs": [
        {
          "output_type": "stream",
          "name": "stdout",
          "text": [
            "Sum of cubes: 225\n"
          ]
        }
      ]
    },
    {
      "cell_type": "markdown",
      "source": [
        "Question 19)  Write a code that filters out prime numbers from a given list"
      ],
      "metadata": {
        "id": "8lJkxEVAKi67"
      }
    },
    {
      "cell_type": "code",
      "source": [
        "def is_prime(n):\n",
        "    \"\"\"Check if a number is prime.\"\"\"\n",
        "    if n <= 1:\n",
        "        return False\n",
        "    for i in range(2, int(n**0.5) + 1):\n",
        "        if n % i == 0:\n",
        "            return False\n",
        "    return True\n",
        "\n",
        "# Given list of numbers\n",
        "numbers = [1, 2, 3, 4, 5, 6, 7, 8, 9, 10, 11, 12, 13, 14, 15]\n",
        "\n",
        "# Filter out prime numbers\n",
        "non_primes = [num for num in numbers if not is_prime(num)]\n",
        "\n",
        "# Print the result\n",
        "print(\"Non-prime numbers:\", non_primes)\n"
      ],
      "metadata": {
        "colab": {
          "base_uri": "https://localhost:8080/"
        },
        "id": "c3nkHAcaKjk4",
        "outputId": "50e927c7-ecdf-47ec-afad-d8f1be44a19a"
      },
      "execution_count": 20,
      "outputs": [
        {
          "output_type": "stream",
          "name": "stdout",
          "text": [
            "Non-prime numbers: [1, 4, 6, 8, 9, 10, 12, 14, 15]\n"
          ]
        }
      ]
    },
    {
      "cell_type": "markdown",
      "source": [
        "Question 20)  Write a code that uses a lambda function to calculate the sum of two numbers"
      ],
      "metadata": {
        "id": "D3e8-w-yKpWR"
      }
    },
    {
      "cell_type": "code",
      "source": [
        "# Define a lambda function to calculate the sum of two numbers\n",
        "sum_two_numbers = lambda x, y: x + y\n",
        "\n",
        "# Example usage\n",
        "num1 = 5\n",
        "num2 = 10\n",
        "\n",
        "# Calculate the sum using the lambda function\n",
        "result = sum_two_numbers(num1, num2)\n",
        "\n",
        "# Print the result\n",
        "print(\"The sum of\", num1, \"and\", num2, \"is:\", result)"
      ],
      "metadata": {
        "colab": {
          "base_uri": "https://localhost:8080/"
        },
        "id": "2uZlS5CyKqKj",
        "outputId": "94bffb42-f389-4496-c7b6-8baf01b2992e"
      },
      "execution_count": 21,
      "outputs": [
        {
          "output_type": "stream",
          "name": "stdout",
          "text": [
            "The sum of 5 and 10 is: 15\n"
          ]
        }
      ]
    },
    {
      "cell_type": "markdown",
      "source": [
        "Qustion 21)  Write a code that uses a lambda function to calculate the square of a given number"
      ],
      "metadata": {
        "id": "VSiY0TVmKwC-"
      }
    },
    {
      "cell_type": "code",
      "source": [
        "# Define a lambda function to calculate the square of a number\n",
        "square = lambda x: x ** 2\n",
        "\n",
        "# Example usage\n",
        "number = 7\n",
        "\n",
        "# Calculate the square using the lambda function\n",
        "result = square(number)\n",
        "\n",
        "# Print the result\n",
        "print(\"The square of\", number, \"is:\", result)"
      ],
      "metadata": {
        "colab": {
          "base_uri": "https://localhost:8080/"
        },
        "id": "-1rqjAhAKw7X",
        "outputId": "12248ce1-ff98-4f1a-d26b-0945226a5d01"
      },
      "execution_count": 22,
      "outputs": [
        {
          "output_type": "stream",
          "name": "stdout",
          "text": [
            "The square of 7 is: 49\n"
          ]
        }
      ]
    },
    {
      "cell_type": "markdown",
      "source": [
        "Question 22)  Write a code that uses a lambda function to check whether a given number is even or odd"
      ],
      "metadata": {
        "id": "MUwK6TfwK1y2"
      }
    },
    {
      "cell_type": "code",
      "source": [
        "# Define a lambda function to check if a number is even or odd\n",
        "is_even = lambda x: x % 2 == 0\n",
        "\n",
        "# Example usage\n",
        "number = 10\n",
        "\n",
        "# Check if the number is even or odd using the lambda function\n",
        "if is_even(number):\n",
        "    result = \"even\"\n",
        "else:\n",
        "    result = \"odd\"\n",
        "\n",
        "# Print the result\n",
        "print(\"The number\", number, \"is:\", result)"
      ],
      "metadata": {
        "colab": {
          "base_uri": "https://localhost:8080/"
        },
        "id": "cLnHKG9tK2fa",
        "outputId": "f5e24e9e-2829-479d-fc61-9b28120471ef"
      },
      "execution_count": 23,
      "outputs": [
        {
          "output_type": "stream",
          "name": "stdout",
          "text": [
            "The number 10 is: even\n"
          ]
        }
      ]
    },
    {
      "cell_type": "markdown",
      "source": [
        "Question 23)  Write a code that uses a lambda function to concatenate two strings"
      ],
      "metadata": {
        "id": "pYtO0TJyLN8w"
      }
    },
    {
      "cell_type": "code",
      "source": [
        "# Define a lambda function to concatenate two strings\n",
        "concat_strings = lambda str1, str2: str1 + str2\n",
        "\n",
        "# Example usage\n",
        "string1 = \"Hello, \"\n",
        "string2 = \"World!\"\n",
        "\n",
        "# Concatenate the strings using the lambda function\n",
        "result = concat_strings(string1, string2)\n",
        "\n",
        "# Print the result\n",
        "print(\"Concatenated string:\", result)"
      ],
      "metadata": {
        "colab": {
          "base_uri": "https://localhost:8080/"
        },
        "id": "t6eYUuoALOgI",
        "outputId": "53cead2f-31d7-4fc2-9541-8db748a0e055"
      },
      "execution_count": 24,
      "outputs": [
        {
          "output_type": "stream",
          "name": "stdout",
          "text": [
            "Concatenated string: Hello, World!\n"
          ]
        }
      ]
    },
    {
      "cell_type": "markdown",
      "source": [
        "Question 24) Write a code that uses a lambda function to find the maximum of three given numbers"
      ],
      "metadata": {
        "id": "XgRQ15LALSmY"
      }
    },
    {
      "cell_type": "code",
      "source": [
        "# Define a lambda function to find the maximum of three numbers\n",
        "max_of_three = lambda a, b, c: max(a, b, c)\n",
        "\n",
        "# Example usage\n",
        "num1 = 10\n",
        "num2 = 25\n",
        "num3 = 15\n",
        "\n",
        "# Find the maximum using the lambda function\n",
        "result = max_of_three(num1, num2, num3)\n",
        "\n",
        "# Print the result\n",
        "print(\"The maximum of\", num1, \",\", num2, \"and\", num3, \"is:\", result)\n"
      ],
      "metadata": {
        "colab": {
          "base_uri": "https://localhost:8080/"
        },
        "id": "z3yEFiT8LTPK",
        "outputId": "7e9e5a1c-75f5-4e96-fe94-b0bb550d110b"
      },
      "execution_count": 25,
      "outputs": [
        {
          "output_type": "stream",
          "name": "stdout",
          "text": [
            "The maximum of 10 , 25 and 15 is: 25\n"
          ]
        }
      ]
    },
    {
      "cell_type": "markdown",
      "source": [
        "Question 25) What is encapsulation in OOP?\n",
        "\n",
        "Encapsulation:-\n",
        " is one of the fundamental principles of Object-Oriented Programming (OOP). It refers to the bundling of data (attributes) and methods (functions) that operate on that data into a single unit, known as a class. Encapsulation helps to restrict direct access to some of an object's components, which can prevent the accidental modification of data and helps maintain the integrity of the object's state.\n",
        "\n",
        "\n",
        "\n"
      ],
      "metadata": {
        "id": "UvXzwxizLXZC"
      }
    },
    {
      "cell_type": "markdown",
      "source": [
        "Question 26) What is encapsulation in OOP?\n",
        "\n",
        "Encapsulation:-\n",
        " is one of the fundamental principles of Object-Oriented Programming (OOP). It refers to the bundling of data (attributes) and methods (functions) that operate on that data into a single unit, known as a class. Encapsulation helps to restrict direct access to some of an object's components, which can prevent the accidental modification of data and helps maintain the integrity of the object's state."
      ],
      "metadata": {
        "id": "IXyV1VkcLbkL"
      }
    },
    {
      "cell_type": "code",
      "source": [
        "class MyClass:\n",
        "    def __init__(self):\n",
        "        self.public_attribute = \"I am public\"\n",
        "\n",
        "    def public_method(self):\n",
        "        return \"This is a public method\"\n",
        "\n",
        "obj = MyClass()\n",
        "print(obj.public_attribute)  # Accessible\n",
        "print(obj.public_method())    # Accessible"
      ],
      "metadata": {
        "colab": {
          "base_uri": "https://localhost:8080/"
        },
        "id": "8EfLURhpMAF8",
        "outputId": "cbbc71cb-429f-49e8-82de-89239bf9ce91"
      },
      "execution_count": 26,
      "outputs": [
        {
          "output_type": "stream",
          "name": "stdout",
          "text": [
            "I am public\n",
            "This is a public method\n"
          ]
        }
      ]
    },
    {
      "cell_type": "code",
      "source": [
        "class MyClass:\n",
        "    def __init__(self):\n",
        "        self._protected_attribute = \"I am protected\"\n",
        "\n",
        "    def _protected_method(self):\n",
        "        return \"This is a protected method\"\n",
        "\n",
        "class SubClass(MyClass):\n",
        "    def access_protected(self):\n",
        "        return self._protected_attribute  # Accessing protected attribute\n",
        "\n",
        "# Creating an instance of SubClass\n",
        "obj = SubClass()\n",
        "print(obj.access_protected())  # Accessible through subclass"
      ],
      "metadata": {
        "colab": {
          "base_uri": "https://localhost:8080/"
        },
        "id": "Gu3ilh5-MG9i",
        "outputId": "4c63de82-b936-4d29-fbd6-013ddbd1911c"
      },
      "execution_count": 27,
      "outputs": [
        {
          "output_type": "stream",
          "name": "stdout",
          "text": [
            "I am protected\n"
          ]
        }
      ]
    },
    {
      "cell_type": "code",
      "source": [
        "class MyClass:\n",
        "    def __init__(self):\n",
        "        self.public_attribute = \"I am public\"\n",
        "\n",
        "    def public_method(self):\n",
        "        return \"This is a public method\"\n",
        "\n",
        "# Creating an instance of MyClass\n",
        "obj = MyClass()\n",
        "print(obj.public_attribute)  # Accessible\n",
        "print(obj.public_method())    # Accessible"
      ],
      "metadata": {
        "colab": {
          "base_uri": "https://localhost:8080/"
        },
        "id": "hB_5ld2FMHK6",
        "outputId": "9387972d-f334-4de0-acc6-152deba542fb"
      },
      "execution_count": 28,
      "outputs": [
        {
          "output_type": "stream",
          "name": "stdout",
          "text": [
            "I am public\n",
            "This is a public method\n"
          ]
        }
      ]
    },
    {
      "cell_type": "markdown",
      "source": [
        "Question 27) What is inheritance in OOP?\n",
        "\n",
        "Inheritance :-\n",
        "is one of the fundamental principles of Object-Oriented Programming (OOP). It allows a new class (called a subclass or derived class) to inherit attributes and methods from an existing class (called a superclass or base class). This mechanism promotes code reusability, reduces redundancy, and establishes a hierarchical relationship between classes."
      ],
      "metadata": {
        "id": "YidepQQMMO-h"
      }
    },
    {
      "cell_type": "code",
      "source": [
        "# Base class\n",
        "class Animal:\n",
        "    def __init__(self, name):\n",
        "        self.name = name\n",
        "\n",
        "    def speak(self):\n",
        "        return \"Animal speaks\"\n",
        "\n",
        "# Derived class\n",
        "class Dog(Animal):  # Inheriting from Animal\n",
        "    def speak(self):  # Overriding the speak method\n",
        "        return \"Woof!\"\n",
        "\n",
        "# Another derived class\n",
        "class Cat(Animal):  # Inheriting from Animal\n",
        "    def speak(self):  # Overriding the speak method\n",
        "        return \"Meow!\"\n",
        "\n",
        "# Creating instances of Dog and Cat\n",
        "dog = Dog(\"Buddy\")\n",
        "cat = Cat(\"Whiskers\")\n",
        "\n",
        "print(f\"{dog.name}: {dog.speak()}\")  # Output: Buddy: Woof!\n",
        "print(f\"{cat.name}: {cat.speak()}\")  # Output: Whiskers: Meow!"
      ],
      "metadata": {
        "colab": {
          "base_uri": "https://localhost:8080/"
        },
        "id": "Byeh5sGNMQj0",
        "outputId": "2497ff6b-6b50-474b-dd1b-db66be32277c"
      },
      "execution_count": 29,
      "outputs": [
        {
          "output_type": "stream",
          "name": "stdout",
          "text": [
            "Buddy: Woof!\n",
            "Whiskers: Meow!\n"
          ]
        }
      ]
    },
    {
      "cell_type": "markdown",
      "source": [
        "Question 28) Define polymorphism in OOP?\n",
        "\n",
        "Polymorphism:-\n",
        " a fundamental concept in Object-Oriented Programming (OOP) that allows objects of different classes to be treated as objects of a common superclass. It enables a single interface to represent different underlying forms (data types). The main types of polymorphism in OOP .\n",
        "\n",
        " 1 compile-time Polymorphism(Static Polymorphism)\n",
        "\n",
        " 2 Run-time Polymorphism(Dynamic Polymorphism)"
      ],
      "metadata": {
        "id": "Z608jlgCMTpX"
      }
    },
    {
      "cell_type": "code",
      "source": [
        "# base class\n",
        "class Animal:\n",
        "    def speak(self):\n",
        "        return \"Animal speaks\"\n",
        "\n",
        "# Derived class Dog\n",
        "class Dog(Animal):\n",
        "    def speak(self):  # Overriding the speak method\n",
        "        return \"Woof!\"\n",
        "\n",
        "# Derived class Cat\n",
        "class Cat(Animal):\n",
        "    def speak(self):  # Overriding the speak method\n",
        "        return \"Meow!\"\n",
        "\n",
        "# Function that demonstrates polymorphism\n",
        "def animal_sound(animal):\n",
        "    print(animal.speak())\n",
        "\n",
        "# Creating instances of Dog and Cat\n",
        "dog = Dog()\n",
        "cat = Cat()\n",
        "\n",
        "# Passing different objects to the same function\n",
        "animal_sound(dog)  # Output: Woof!\n",
        "animal_sound(cat)  # Output: Meow!"
      ],
      "metadata": {
        "colab": {
          "base_uri": "https://localhost:8080/"
        },
        "id": "w1n9u484MXPR",
        "outputId": "06c359cd-7991-4af3-ec83-9d2e1c5f797c"
      },
      "execution_count": 30,
      "outputs": [
        {
          "output_type": "stream",
          "name": "stdout",
          "text": [
            "Woof!\n",
            "Meow!\n"
          ]
        }
      ]
    },
    {
      "cell_type": "markdown",
      "source": [
        "Question 29) Explain method overriding in Python?\n",
        "\n",
        " Method overriding is a feature in Object-Oriented Programming (OOP) that allows a subclass to provide a specific implementation of a method that is already defined in its superclass. When a method in a subclass has the same name and parameters as a method in its superclass, the subclass's method overrides the superclass's method. This mechanism is useful for providing specific behavior in subclasses while maintaining a consistent interface.\n"
      ],
      "metadata": {
        "id": "D7bwkMT9MZue"
      }
    },
    {
      "cell_type": "code",
      "source": [
        "# Base class\n",
        "class Animal:\n",
        "    def speak(self):\n",
        "        return \"Animal speaks\"\n",
        "\n",
        "# Derived class Dog\n",
        "class Dog(Animal):\n",
        "    def speak(self):  # Overriding the speak method\n",
        "        return super().speak() + \" and Woof!\"  # Calling the superclass method\n",
        "\n",
        "# Creating an instance of Dog\n",
        "dog = Dog()\n",
        "print(dog.speak())  # Output: Animal speaks and Woof!"
      ],
      "metadata": {
        "colab": {
          "base_uri": "https://localhost:8080/"
        },
        "id": "SzXw-L9eMbnE",
        "outputId": "8007565b-13d8-4da4-849a-1b64ce6fd9c4"
      },
      "execution_count": 31,
      "outputs": [
        {
          "output_type": "stream",
          "name": "stdout",
          "text": [
            "Animal speaks and Woof!\n"
          ]
        }
      ]
    },
    {
      "cell_type": "markdown",
      "source": [
        "Question 30) Define a parent class Animal with a method make_sound that prints \"Generic animal sound\". Create a\n",
        "child class Dog inheriting from Animal with a method make_sound that prints \"Woof!\"?\n",
        "\n",
        "Certainly! Below is an example of how to define a parent class Animal with a method make_sound that prints \"Generic animal sound.\" Then, we create a child class Dog that inherits from Animal and overrides the make_sound method to print \"Woof!\".\n"
      ],
      "metadata": {
        "id": "BSi-rKPqMgzS"
      }
    },
    {
      "cell_type": "code",
      "source": [
        "# Parent class\n",
        "class Animal:\n",
        "    def make_sound(self):\n",
        "        print(\"Generic animal sound\")\n",
        "\n",
        "# Child class\n",
        "class Dog(Animal):\n",
        "    def make_sound(self):  # Overriding the make_sound method\n",
        "        print(\"Woof!\")\n",
        "\n",
        "# Creating an instance of Animal\n",
        "generic_animal = Animal()\n",
        "generic_animal.make_sound()  # Output: Generic animal sound\n",
        "\n",
        "# Creating an instance of Dog\n",
        "dog = Dog()\n",
        "dog.make_sound()  # Output: Woof!"
      ],
      "metadata": {
        "colab": {
          "base_uri": "https://localhost:8080/"
        },
        "id": "XI7d9tXwMi41",
        "outputId": "7f52fe21-8ac5-496f-c82d-090a1114c5aa"
      },
      "execution_count": 32,
      "outputs": [
        {
          "output_type": "stream",
          "name": "stdout",
          "text": [
            "Generic animal sound\n",
            "Woof!\n"
          ]
        }
      ]
    },
    {
      "cell_type": "markdown",
      "source": [
        "Question 31)Define a method move in the Animal class that prints \"Animal moves\". Override the move method in the\n",
        "Dog class to print \"Dog runs?\n",
        "\n",
        "Certainly! Below is an updated version of the previous example, where we define a method move in the Animal class that prints \"Animal moves\". We then override this method in the Dog class to print \"Dog runs\".\n"
      ],
      "metadata": {
        "id": "420GSYrmMlco"
      }
    },
    {
      "cell_type": "code",
      "source": [
        "# Parent class\n",
        "class Animal:\n",
        "    def make_sound(self):\n",
        "        print(\"Generic animal sound\")\n",
        "\n",
        "    def move(self):\n",
        "        print(\"Animal moves\")\n",
        "\n",
        "# Child class\n",
        "class Dog(Animal):\n",
        "    def make_sound(self):  # Overriding the make_sound method\n",
        "        print(\"Woof!\")\n",
        "\n",
        "    def move(self):  # Overriding the move method\n",
        "        print(\"Dog runs\")\n",
        "\n",
        "# Creating an instance of Animal\n",
        "generic_animal = Animal()\n",
        "generic_animal.make_sound()  # Output: Generic animal sound\n",
        "generic_animal.move()        # Output: Animal moves\n",
        "\n",
        "# Creating an instance of Dog\n",
        "dog = Dog()\n",
        "dog.make_sound()  # Output: Woof!\n",
        "dog.move()        # Output: Dog runs"
      ],
      "metadata": {
        "colab": {
          "base_uri": "https://localhost:8080/"
        },
        "id": "1PuEal68Mnlv",
        "outputId": "80ef9ce3-101d-49d8-a10d-6a027c74d122"
      },
      "execution_count": 33,
      "outputs": [
        {
          "output_type": "stream",
          "name": "stdout",
          "text": [
            "Generic animal sound\n",
            "Animal moves\n",
            "Woof!\n",
            "Dog runs\n"
          ]
        }
      ]
    },
    {
      "cell_type": "markdown",
      "source": [
        "Question 32)  Create a class Mammal with a method reproduce that prints \"Giving birth to live young.\" Create a class\n",
        "DogMammal inheriting from both Dog and Mammal?\n",
        "\n",
        "In Python, you can create a class that inherits from multiple classes using multiple inheritance. Below, I'll define a class Mammal with a method reproduce that prints \"Giving birth to live young.\" Then, I'll create a class DogMammal that inherits from both Dog (which we previously defined) and Mammal."
      ],
      "metadata": {
        "id": "C_XuKPt8MqmI"
      }
    },
    {
      "cell_type": "code",
      "source": [
        "# Parent class Animal\n",
        "class Animal:\n",
        "    def make_sound(self):\n",
        "        print(\"Generic animal sound\")\n",
        "\n",
        "    def move(self):\n",
        "        print(\"Animal moves\")\n",
        "\n",
        "# Child class Dog inheriting from Animal\n",
        "class Dog(Animal):\n",
        "    def make_sound(self):  # Overriding the make_sound method\n",
        "        print(\"Woof!\")\n",
        "\n",
        "    def move(self):  # Overriding the move method\n",
        "        print(\"Dog runs\")\n",
        "\n",
        "# Class Mammal\n",
        "class Mammal:\n",
        "    def reproduce(self):\n",
        "        print(\"Giving birth to live young.\")\n",
        "\n",
        "# Class DogMammal inheriting from both Dog and Mammal\n",
        "class DogMammal(Dog, Mammal):\n",
        "    pass  # Inherits all methods from Dog and Mammal\n",
        "\n",
        "# Creating an instance of DogMammal\n",
        "dog_mammal = DogMammal()\n",
        "dog_mammal.make_sound()   # Output: Woof!\n",
        "dog_mammal.move()         # Output: Dog runs\n",
        "dog_mammal.reproduce()    # Output: Giving birth to live young.\n"
      ],
      "metadata": {
        "colab": {
          "base_uri": "https://localhost:8080/"
        },
        "id": "X77oCbg3MsdM",
        "outputId": "746dba61-2138-4af4-f17e-b4bf588ced4e"
      },
      "execution_count": 34,
      "outputs": [
        {
          "output_type": "stream",
          "name": "stdout",
          "text": [
            "Woof!\n",
            "Dog runs\n",
            "Giving birth to live young.\n"
          ]
        }
      ]
    },
    {
      "cell_type": "markdown",
      "source": [
        "Question 33) Create a class GermanShepherd inheriting from Dog and override the make_sound method to print\n",
        "\"Bark!?\n",
        "\n",
        "Certainly! Below is an example of how to define a class GermanShepherd that inherits from the Dog class and overrides the make_sound method to print \"Bark!\".\n",
        "\n"
      ],
      "metadata": {
        "id": "_EK9su8cMvQ0"
      }
    },
    {
      "cell_type": "code",
      "source": [
        "# Parent class Animal\n",
        "class Animal:\n",
        "    def make_sound(self):\n",
        "        print(\"Generic animal sound\")\n",
        "\n",
        "    def move(self):\n",
        "        print(\"Animal moves\")\n",
        "\n",
        "# Child class Dog inheriting from Animal\n",
        "class Dog(Animal):\n",
        "    def make_sound(self):  # Overriding the make_sound method\n",
        "        print(\"Woof!\")\n",
        "\n",
        "    def move(self):  # Overriding the move method\n",
        "        print(\"Dog runs\")\n",
        "\n",
        "# Class GermanShepherd inheriting from Dog\n",
        "class GermanShepherd(Dog):\n",
        "    def make_sound(self):  # Overriding the make_sound method\n",
        "        print(\"Bark!\")\n",
        "\n",
        "# Creating an instance of GermanShepherd\n",
        "german_shepherd = GermanShepherd()\n",
        "german_shepherd.make_sound()  # Output: Bark!\n",
        "german_shepherd.move()        # Output: Dog runs"
      ],
      "metadata": {
        "colab": {
          "base_uri": "https://localhost:8080/"
        },
        "id": "Kdv2jh_4Mxay",
        "outputId": "0251bc74-c0a4-425f-b2a0-3b315f53fda0"
      },
      "execution_count": 35,
      "outputs": [
        {
          "output_type": "stream",
          "name": "stdout",
          "text": [
            "Bark!\n",
            "Dog runs\n"
          ]
        }
      ]
    },
    {
      "cell_type": "markdown",
      "source": [
        "Question 34) Define constructors in both the Animal and Dog classes with different initialization parameters?\n",
        "\n",
        "Certainly! Below, I will define constructors (also known as __init__ methods) in both the Animal and Dog classes with different initialization parameters. The Animal class will have a constructor that initializes the name and age of the animal, while the Dog class will have an additional parameter for breed."
      ],
      "metadata": {
        "id": "GeaF2Cn_Mz5u"
      }
    },
    {
      "cell_type": "code",
      "source": [
        "# Parent class Animal\n",
        "class Animal:\n",
        "    def __init__(self, name, age):\n",
        "        self.name = name\n",
        "        self.age = age\n",
        "\n",
        "    def make_sound(self):\n",
        "        print(\"Generic animal sound\")\n",
        "\n",
        "    def move(self):\n",
        "        print(\"Animal moves\")\n",
        "\n",
        "# Child class Dog inheriting from Animal\n",
        "class Dog(Animal):\n",
        "    def __init__(self, name, age, breed):\n",
        "        super().__init__(name, age)  # Call the constructor of the Animal class\n",
        "        self.breed = breed\n",
        "\n",
        "    def make_sound(self):  # Overriding the make_sound method\n",
        "        print(\"Woof!\")\n",
        "\n",
        "    def move(self):  # Overriding the move method\n",
        "        print(\"Dog runs\")\n",
        "\n",
        "# Creating an instance of Animal\n",
        "generic_animal = Animal(\"Generic Animal\", 5)\n",
        "print(f\"{generic_animal.name} is {generic_animal.age} years old.\")\n",
        "generic_animal.make_sound()  # Output: Generic animal sound\n",
        "generic_animal.move()        # Output: Animal moves\n",
        "\n",
        "# Creating an instance of Dog\n",
        "dog = Dog(\"Buddy\", 3, \"Golden Retriever\")\n",
        "print(f\"{dog.name} is {dog.age} years old and is a {dog.breed}.\")\n",
        "dog.make_sound()  # Output: Woof!\n",
        "dog.move()        # Output: Dog runs\n"
      ],
      "metadata": {
        "colab": {
          "base_uri": "https://localhost:8080/"
        },
        "id": "OnnPoJ3NM1tj",
        "outputId": "6f4aeaee-c0d0-4a86-86f6-387d293a9868"
      },
      "execution_count": 36,
      "outputs": [
        {
          "output_type": "stream",
          "name": "stdout",
          "text": [
            "Generic Animal is 5 years old.\n",
            "Generic animal sound\n",
            "Animal moves\n",
            "Buddy is 3 years old and is a Golden Retriever.\n",
            "Woof!\n",
            "Dog runs\n"
          ]
        }
      ]
    },
    {
      "cell_type": "markdown",
      "source": [
        "Question 35) What is abstraction in Python? How is it implemented?\n",
        "\n",
        "Abstraction:- is a fundamental concept in object-oriented programming (OOP) that focuses on hiding the complex implementation details of a system and exposing only the essential features to the user. This allows the user to interact with an object without needing to understand its internal workings.\n"
      ],
      "metadata": {
        "id": "mSsEWa84M4oH"
      }
    },
    {
      "cell_type": "code",
      "source": [
        "from abc import ABC, abstractmethod\n",
        "\n",
        "# Abstract class\n",
        "class Animal(ABC):\n",
        "\n",
        "    @abstractmethod\n",
        "    def make_sound(self):\n",
        "        pass  # Abstract method, no implementation\n",
        "\n",
        "    @abstractmethod\n",
        "    def move(self):\n",
        "        pass  # Abstract method, no implementation\n",
        "\n",
        "# Concrete class inheriting from Animal\n",
        "class Dog(Animal):\n",
        "    def make_sound(self):\n",
        "        return \"Woof!\"\n",
        "\n",
        "    def move(self):\n",
        "        return \"Dog runs\"\n",
        "\n",
        "# Concrete class inheriting from Animal\n",
        "class Cat(Animal):\n",
        "    def make_sound(self):\n",
        "        return \"Meow!\"\n",
        "\n",
        "    def move(self):\n",
        "        return \"Cat jumps\"\n",
        "\n",
        "# Attempting to instantiate the abstract class will raise an error\n",
        "# animal = Animal()  # This will raise a TypeError\n",
        "\n",
        "# Creating instances of concrete classes\n",
        "dog = Dog()\n",
        "cat = Cat()\n",
        "\n",
        "# Using the instances\n",
        "print(dog.make_sound())  # Output: Woof!\n",
        "print(dog.move())        # Output: Dog runs\n",
        "\n",
        "print(cat.make_sound())  # Output: Meow!\n",
        "print(cat.move())        # Output: Cat jumps"
      ],
      "metadata": {
        "colab": {
          "base_uri": "https://localhost:8080/"
        },
        "id": "ZHCDoNsAM6nF",
        "outputId": "ca6a4d36-46d2-4549-b015-39f9309e0549"
      },
      "execution_count": 37,
      "outputs": [
        {
          "output_type": "stream",
          "name": "stdout",
          "text": [
            "Woof!\n",
            "Dog runs\n",
            "Meow!\n",
            "Cat jumps\n"
          ]
        }
      ]
    },
    {
      "cell_type": "markdown",
      "source": [
        "Question 36) Explain the importance of abstraction in object-oriented programming?\n",
        "1. Simplification of Complex Systems\n",
        "\n",
        "Hides Complexity: Abstraction allows developers to hide complex implementation details and expose only the necessary features of an object. This makes it easier for users to interact with the system without needing to understand how it works internally.\n",
        "\n",
        "User -Friendly Interfaces:\n",
        " By providing a simplified interface, abstraction makes it easier for users to utilize classes and objects without delving into the underlying complexities.\n",
        "2. Improved Maintainability\n",
        "\n",
        "Ease of Updates: Since abstraction separates the interface from implementation, changes to the implementation do not affect the users of the class as long as the interface remains consistent. This makes the codebase easier to maintain and update.\n",
        "\n",
        "Encapsulation of Changes:\n",
        " Changes in one part of the system can be made independently of others, reducing the risk of introducing bugs.\n",
        "3. Enhanced Code Reusability\n",
        "\n",
        "Common Interfaces: Abstract classes and interfaces allow developers to define common behaviors that can be reused across multiple classes. This encourages code reuse and reduces redundancy.\n",
        "\n",
        "Flexible Design:\n",
        " By using abstraction, developers can create flexible and modular systems where new implementations can be added without modifying existing code.\n",
        "4. Improved Collaboration\n",
        "\n",
        "Clear Contracts: Abstraction establishes clear contracts (interfaces) that different parts of a system must adhere to. This is particularly important in team environments where different developers may be working on different components.\n",
        "\n",
        "Decoupling:\n",
        " Teams can work on different components independently, as long as they respect the abstract interfaces defined in the system.\n"
      ],
      "metadata": {
        "id": "2cJH99_gNBWv"
      }
    },
    {
      "cell_type": "markdown",
      "source": [
        "Question 37) How are abstract methods different from regular methods in Python?\n",
        "\n",
        "Abstract Methods\n",
        "\n",
        "Definition:\n",
        "\n",
        "An abstract method is a method that is declared in an abstract class and does not have an implementation. It serves as a placeholder for subclasses to provide their own implementation.\n",
        "\n",
        "Regular Methods\n",
        "\n",
        "Definition:\n",
        "\n",
        "A regular method is a method defined in a class that has a complete implementation. It can perform actions and return values when called."
      ],
      "metadata": {
        "id": "Oyb-3avYNFag"
      }
    },
    {
      "cell_type": "code",
      "source": [
        "from abc import ABC, abstractmethod\n",
        "\n",
        "class Animal(ABC):\n",
        "    @abstractmethod\n",
        "    def make_sound(self):\n",
        "        pass  # No implementation\n",
        "\n",
        "class Dog(Animal):\n",
        "    def make_sound(self):\n",
        "        return \"Woof!\"  # Implementation provided"
      ],
      "metadata": {
        "id": "m1A9LFZDNHpJ"
      },
      "execution_count": 38,
      "outputs": []
    },
    {
      "cell_type": "code",
      "source": [
        "class Animal:\n",
        "    def make_sound(self):\n",
        "        return \"Some generic sound\"  # Implementation provided\n",
        "\n",
        "class Dog(Animal):\n",
        "    def make_sound(self):\n",
        "        return \"Woof!\"  # Overriding the regular method\n",
        "\n",
        "dog = Dog()\n",
        "print(dog.make_sound())  # Output: Woof!"
      ],
      "metadata": {
        "colab": {
          "base_uri": "https://localhost:8080/"
        },
        "id": "hAP8p5iTNKRI",
        "outputId": "8303c3ae-ef26-413c-8466-1e41477d155a"
      },
      "execution_count": 39,
      "outputs": [
        {
          "output_type": "stream",
          "name": "stdout",
          "text": [
            "Woof!\n"
          ]
        }
      ]
    },
    {
      "cell_type": "markdown",
      "source": [
        "Question 38) How can you achieve abstraction using interfaces in Python?\n",
        "\n",
        "You need to import the ABC class and the abstractmethod decorator from the abc module.\n",
        "\n"
      ],
      "metadata": {
        "id": "ag2Sfc29OuXr"
      }
    },
    {
      "cell_type": "code",
      "source": [
        "from abc import ABC, abstractmethod"
      ],
      "metadata": {
        "id": "mWScxjKnOy73"
      },
      "execution_count": null,
      "outputs": []
    },
    {
      "cell_type": "markdown",
      "source": [
        "Question 39) Can you provide an example of how abstraction can be utilized to create a common interface for a group\n",
        "of related classes in Python?\n",
        "\n",
        "Certainly! Let's create a practical example using abstraction to define a common interface for a group of related classes. We'll model a simple system for different types of payment methods (like CreditCard, PayPal, and BankTransfer) using an abstract base class."
      ],
      "metadata": {
        "id": "XghxSq6wO5HR"
      }
    },
    {
      "cell_type": "code",
      "source": [
        "from abc import ABC, abstractmethod\n",
        "\n",
        "class PaymentMethod(ABC):\n",
        "\n",
        "    @abstractmethod\n",
        "    def process_payment(self, amount: float) -> str:\n",
        "        \"\"\"Process the payment of a given amount.\"\"\"\n",
        "        pass\n",
        "\n",
        "    @abstractmethod\n",
        "    def refund_payment(self, amount: float) -> str:\n",
        "        \"\"\"Refund the payment of a given amount.\"\"\"\n",
        "        pass"
      ],
      "metadata": {
        "id": "bwAzld-VO7_b"
      },
      "execution_count": 40,
      "outputs": []
    },
    {
      "cell_type": "markdown",
      "source": [
        "Question 40) How does Python achieve polymorphism through method overriding?\n",
        "\n",
        "In Python, polymorphism is achieved through method overriding, which allows a subclass to provide a specific implementation for a method that is already provided by its parent class. This enables you to use instances of different classes interchangeably, as long as they share a common interface.\n",
        "\n",
        "Here's a step-by-step example of how Python achieves polymorphism through method overriding:"
      ],
      "metadata": {
        "id": "1Ur6OZgkPAHu"
      }
    },
    {
      "cell_type": "code",
      "source": [
        "class Animal:\n",
        "    def make_sound(self):\n",
        "        print(\"The animal makes a sound.\")"
      ],
      "metadata": {
        "id": "y0cTCQ5nPE0L"
      },
      "execution_count": null,
      "outputs": []
    },
    {
      "cell_type": "markdown",
      "source": [
        "Question 41)  Define a base class with a method and a subclass that overrides the method?\n",
        "\n",
        "Sure! Below is an example of a base class with a method and a subclass that overrides that method. We'll use a simple example involving a Vehicle base class and a Car subclass."
      ],
      "metadata": {
        "id": "2cORap_WPGYj"
      }
    },
    {
      "cell_type": "code",
      "source": [
        "class Vehicle:\n",
        "    def describe(self):\n",
        "        return \"This is a vehicle.\"\n",
        "\n",
        "class Car(Vehicle):\n",
        "    def describe(self):\n",
        "        return \"This is a car.\"\n",
        "\n",
        "# Create an instance of the base class\n",
        "vehicle = Vehicle()\n",
        "print(vehicle.describe())  # Output: This is a vehicle.\n",
        "\n",
        "# Create an instance of the subclass\n",
        "car = Car()\n",
        "print(car.describe())      # Output: This is a car."
      ],
      "metadata": {
        "colab": {
          "base_uri": "https://localhost:8080/"
        },
        "id": "yNOdJmM5PKp7",
        "outputId": "ba69a266-d6e7-421a-bd98-3cce5a01b948"
      },
      "execution_count": 41,
      "outputs": [
        {
          "output_type": "stream",
          "name": "stdout",
          "text": [
            "This is a vehicle.\n",
            "This is a car.\n"
          ]
        }
      ]
    },
    {
      "cell_type": "markdown",
      "source": [
        "Question 42) Define a base class and multiple subclasses with overridden methods?\n",
        "\n",
        "Certainly! Let's create a base class called Shape that defines a method for calculating the area. We will then create multiple subclasses (Circle, Rectangle, and Triangle) that override this method to provide specific implementations for calculating the area of each shape."
      ],
      "metadata": {
        "id": "VLaeuHIAPOSY"
      }
    },
    {
      "cell_type": "code",
      "source": [
        "import math\n",
        "\n",
        "class Shape:\n",
        "    def area(self):\n",
        "        raise NotImplementedError(\"Subclasses must implement this method\")\n",
        "\n",
        "class Circle(Shape):\n",
        "    def __init__(self, radius):\n",
        "        self.radius = radius\n",
        "\n",
        "    def area(self):\n",
        "        return math.pi * (self.radius ** 2)\n",
        "\n",
        "class Rectangle(Shape):\n",
        "    def __init__(self, width, height):\n",
        "        self.width = width\n",
        "        self.height = height\n",
        "\n",
        "    def area(self):\n",
        "        return self.width * self.height\n",
        "\n",
        "class Triangle(Shape):\n",
        "    def __init__(self, base, height):\n",
        "        self.base = base\n",
        "        self.height = height\n",
        "\n",
        "    def area(self):\n",
        "        return 0.5 * self.base * self.height\n",
        "\n",
        "# Create instances of each shape\n",
        "circle = Circle(radius=5)\n",
        "rectangle = Rectangle(width=4, height=6)\n",
        "triangle = Triangle(base=3, height=4)\n",
        "\n",
        "# Print the area of each shape\n",
        "print(f\"Area of Circle: {circle.area():.2f}\")       # Output: Area of Circle: 78.54\n",
        "print(f\"Area of Rectangle: {rectangle.area():.2f}\") # Output: Area of Rectangle: 24.00\n",
        "print(f\"Area of Triangle: {triangle.area():.2f}\")   # Output: Area of Triangle: 6.00"
      ],
      "metadata": {
        "colab": {
          "base_uri": "https://localhost:8080/"
        },
        "id": "cuQdPMyHPTdY",
        "outputId": "e00a00cf-2694-41ab-c2a9-ed024ff65e75"
      },
      "execution_count": 42,
      "outputs": [
        {
          "output_type": "stream",
          "name": "stdout",
          "text": [
            "Area of Circle: 78.54\n",
            "Area of Rectangle: 24.00\n",
            "Area of Triangle: 6.00\n"
          ]
        }
      ]
    },
    {
      "cell_type": "markdown",
      "source": [
        "Question 43) Describe how Python supports polymorphism with duck typing?\n",
        "\n",
        "Python supports polymorphism through a concept known as duck typing, which is a dynamic typing feature that allows for more flexible and intuitive code. The term \"duck typing\" comes from the saying, \"If it looks like a duck and quacks like a duck, it must be a duck.\" In programming, this means that the type or class of an object is less important than the methods it defines or the behavior it exhibits."
      ],
      "metadata": {
        "id": "O7uNDtnXPXn3"
      }
    },
    {
      "cell_type": "code",
      "source": [
        "class Duck:\n",
        "    def quack(self):\n",
        "        return \"Quack!\"\n",
        "\n",
        "class Person:\n",
        "    def quack(self):\n",
        "        return \"I'm quacking like a duck!\"\n",
        "\n",
        "def make_it_quack(thing):\n",
        "    print(thing.quack())\n",
        "\n",
        "duck = Duck()\n",
        "person = Person()\n",
        "\n",
        "make_it_quack(duck)   # Output: Quack!\n",
        "make_it_quack(person) # Output: I'm quacking like a duck!"
      ],
      "metadata": {
        "colab": {
          "base_uri": "https://localhost:8080/"
        },
        "id": "FDDAw-iHPZTA",
        "outputId": "a68c106b-d87b-400d-c43d-f168b0ea3c77"
      },
      "execution_count": 43,
      "outputs": [
        {
          "output_type": "stream",
          "name": "stdout",
          "text": [
            "Quack!\n",
            "I'm quacking like a duck!\n"
          ]
        }
      ]
    },
    {
      "cell_type": "markdown",
      "source": [
        "Question 44) How do you achieve encapsulation in Python?\n",
        "\n",
        "Encapsulation is one of the fundamental principles of object-oriented programming (OOP) that restricts direct access to some of an object's attributes and methods. This is done to protect the internal state of the object and to prevent unintended interference and misuse of its methods and properties. In Python, encapsulation is achieved through the use of access modifiers and conventions."
      ],
      "metadata": {
        "id": "F0UXaWbaPh8-"
      }
    },
    {
      "cell_type": "code",
      "source": [
        "class PublicExample:\n",
        "    def __init__(self, value):\n",
        "        self.value = value  # Public attribute\n",
        "\n",
        "    def display(self):  # Public method\n",
        "        print(f\"Value: {self.value}\")\n",
        "\n",
        "obj = PublicExample(10)\n",
        "print(obj.value)  # Accessing public attribute\n",
        "obj.display()     # Calling public method"
      ],
      "metadata": {
        "colab": {
          "base_uri": "https://localhost:8080/"
        },
        "id": "p1cSMzTzPk4t",
        "outputId": "51334054-c197-411d-db6f-491e8015b612"
      },
      "execution_count": 44,
      "outputs": [
        {
          "output_type": "stream",
          "name": "stdout",
          "text": [
            "10\n",
            "Value: 10\n"
          ]
        }
      ]
    },
    {
      "cell_type": "markdown",
      "source": [
        "Question 45)  Can encapsulation be bypassed in Python? If so, how?\n",
        "\n",
        "\n",
        "Yes, encapsulation in Python can be bypassed, primarily because Python does not enforce strict access control like some other programming languages (e.g., Java or C++). Instead, Python relies on conventions and name mangling to suggest how attributes and methods should be accessed. Here’s how encapsulation can be bypassed in Python:"
      ],
      "metadata": {
        "id": "roFN_VwiPoNf"
      }
    },
    {
      "cell_type": "code",
      "source": [
        "class Base:\n",
        "    def __init__(self):\n",
        "        self._protected = \"I'm protected\"\n",
        "        self.__private = \"I'm private\"\n",
        "\n",
        "class Derived(Base):\n",
        "    def access_members(self):\n",
        "        print(self._protected)  # Accessing protected member\n",
        "        # print(self.__private)  # This will raise an AttributeError\n",
        "        print(self._Base__private)  # Accessing private member using name mangling\n",
        "\n",
        "obj = Derived()\n",
        "obj.access_members()"
      ],
      "metadata": {
        "colab": {
          "base_uri": "https://localhost:8080/"
        },
        "id": "FRXdlgMyPqS5",
        "outputId": "e71b9bdd-9e6c-42de-f8dc-0799ea9d0a0d"
      },
      "execution_count": 45,
      "outputs": [
        {
          "output_type": "stream",
          "name": "stdout",
          "text": [
            "I'm protected\n",
            "I'm private\n"
          ]
        }
      ]
    },
    {
      "cell_type": "markdown",
      "source": [
        "Question 46) Implement a class BankAccount with a private balance attribute. Include methods to deposit, withdraw,\n",
        "and check the balance?\n",
        "\n",
        "Certainly! Below is an implementation of a BankAccount class in Python that includes a private balance attribute. The class provides methods to deposit money, withdraw money, and check the current balance. The private attribute is accessed and modified through public methods, ensuring encapsulation.\n"
      ],
      "metadata": {
        "id": "3NAcpCCiPy9x"
      }
    },
    {
      "cell_type": "code",
      "source": [
        "class BankAccount:\n",
        "    def __init__(self, initial_balance=0):\n",
        "        self.__balance = initial_balance  # Private attribute\n",
        "\n",
        "    def deposit(self, amount):\n",
        "        \"\"\"Deposit money into the account.\"\"\"\n",
        "        if amount > 0:\n",
        "            self.__balance += amount\n",
        "            print(f\"Deposited: ${amount:.2f}. New balance: ${self.__balance:.2f}.\")\n",
        "        else:\n",
        "            print(\"Deposit amount must be positive.\")\n",
        "\n",
        "    def withdraw(self, amount):\n",
        "        \"\"\"Withdraw money from the account.\"\"\"\n",
        "        if amount > 0:\n",
        "            if amount <= self.__balance:\n",
        "                self.__balance -= amount\n",
        "                print(f\"Withdrew: ${amount:.2f}. New balance: ${self.__balance:.2f}.\")\n",
        "            else:\n",
        "                print(\"Insufficient funds for this withdrawal.\")\n",
        "        else:\n",
        "            print(\"Withdrawal amount must be positive.\")\n",
        "\n",
        "    def check_balance(self):\n",
        "        \"\"\"Check the current balance of the account.\"\"\"\n",
        "        print(f\"Current balance: ${self.__balance:.2f}\")\n",
        "\n",
        "# Example usage:\n",
        "if __name__ == \"__main__\":\n",
        "    account = BankAccount(100)  # Create an account with an initial balance of $100\n",
        "    account.check_balance()       # Check balance\n",
        "    account.deposit(50)           # Deposit $50\n",
        "    account.withdraw(30)          # Withdraw $30\n",
        "    account.check_balance()       # Check balance again\n",
        "    account.withdraw(150)         # Attempt to"
      ],
      "metadata": {
        "colab": {
          "base_uri": "https://localhost:8080/"
        },
        "id": "3iOGjXbRP0m8",
        "outputId": "910b1b1f-2ca3-4a77-bff0-61f9bf0309d5"
      },
      "execution_count": 46,
      "outputs": [
        {
          "output_type": "stream",
          "name": "stdout",
          "text": [
            "Current balance: $100.00\n",
            "Deposited: $50.00. New balance: $150.00.\n",
            "Withdrew: $30.00. New balance: $120.00.\n",
            "Current balance: $120.00\n",
            "Insufficient funds for this withdrawal.\n"
          ]
        }
      ]
    },
    {
      "cell_type": "markdown",
      "source": [
        "Question 47)  Develop a Person class with private attributes name and email, and methods to set and get the email?\n"
      ],
      "metadata": {
        "id": "CxNmGTY9P4xC"
      }
    },
    {
      "cell_type": "code",
      "source": [
        "class Person:\n",
        "    def __init__(self, name, email):\n",
        "        self.__name = name  # Private attribute\n",
        "        self.__email = email  # Private attribute\n",
        "\n",
        "    def set_email(self, email):\n",
        "        \"\"\"Set the email address for the person.\"\"\"\n",
        "        if \"@\" in email and \".\" in email:\n",
        "            self.__email = email\n",
        "            print(f\"Email updated to: {self.__email}\")\n",
        "        else:\n",
        "            print(\"Invalid email address. Please provide a valid email.\")\n",
        "\n",
        "    def get_email(self):\n",
        "        \"\"\"Get the email address of the person.\"\"\"\n",
        "        return self.__email\n",
        "\n",
        "    def get_name(self):\n",
        "        \"\"\"Get the name of the person.\"\"\"\n",
        "        return self.__name\n",
        "\n",
        "# Example usage:\n",
        "if __name__ == \"__main__\":\n",
        "    person = Person(\"pankaj kumar\", \"pankajkumar@example.com\")  # Create a Person object\n",
        "    print(f\"Name: {person.get_name()}\")  # Get and print the name\n",
        "    print(f\"Email: {person.get_email()}\")  # Get and print the email\n",
        "\n",
        "    # Update the email\n",
        "    person.set_email(\"pankajraj@example.com\")  # Set a new email\n",
        "    print(f\"Updated Email: {person.get_email()}\")  # Get and print the updated email\n",
        "\n",
        "    # Attempt to set an invalid email\n",
        "    person.set_email(\"invalid-email\")  # This should print an error message\n"
      ],
      "metadata": {
        "colab": {
          "base_uri": "https://localhost:8080/"
        },
        "id": "EjuzsmeOP63O",
        "outputId": "4a416b2e-1225-450c-d9ef-706f531c9f86"
      },
      "execution_count": 47,
      "outputs": [
        {
          "output_type": "stream",
          "name": "stdout",
          "text": [
            "Name: pankaj kumar\n",
            "Email: pankajkumar@example.com\n",
            "Email updated to: pankajraj@example.com\n",
            "Updated Email: pankajraj@example.com\n",
            "Invalid email address. Please provide a valid email.\n"
          ]
        }
      ]
    },
    {
      "cell_type": "markdown",
      "source": [
        "Question 48) Create a decorator in Python that adds functionality to a simple function by printing a message before\n",
        "and after the function execution?\n"
      ],
      "metadata": {
        "id": "4BO-nPPJQF11"
      }
    },
    {
      "cell_type": "code",
      "source": [
        "def my_decorator(func):\n",
        "    def wrapper(*args, **kwargs):\n",
        "        print(\"Before function execution\")\n",
        "        result = func(*args, **kwargs)  # Call the original function\n",
        "        print(\"After function execution\")\n",
        "        return result  # Return the result of the original function\n",
        "    return wrapper\n",
        "\n",
        "# Example of a simple function to be decorated\n",
        "@my_decorator\n",
        "def say_hello(name):\n",
        "    print(f\"Hello, {name}!\")\n",
        "\n",
        "# Calling the decorated function\n",
        "say_hello(\"pankaj\")"
      ],
      "metadata": {
        "colab": {
          "base_uri": "https://localhost:8080/"
        },
        "id": "6MOKhwCTQJSz",
        "outputId": "ccde835b-ce50-4df7-9e5f-546ee68bae91"
      },
      "execution_count": 48,
      "outputs": [
        {
          "output_type": "stream",
          "name": "stdout",
          "text": [
            "Before function execution\n",
            "Hello, pankaj!\n",
            "After function execution\n"
          ]
        }
      ]
    },
    {
      "cell_type": "markdown",
      "source": [
        "Question 49)  Modify the decorator to accept arguments and print the function name along with the message?\n"
      ],
      "metadata": {
        "id": "1eCZ1BpsQePo"
      }
    },
    {
      "cell_type": "code",
      "source": [
        "def my_decorator(message_before, message_after):\n",
        "    def decorator(func):\n",
        "        def wrapper(*args, **kwargs):\n",
        "            print(f\"{message_before} - Function: {func.__name__}\")\n",
        "            result = func(*args, **kwargs)  # Call the original function\n",
        "            print(f\"{message_after} - Function: {func.__name__}\")\n",
        "            return result  # Return the result of the original function\n",
        "        return wrapper\n",
        "    return decorator\n",
        "\n",
        "# Example of a simple function to be decorated\n",
        "@my_decorator(\"Starting execution\", \"Finished execution\")\n",
        "def say_hello(name):\n",
        "    print(f\"Hello, {name}!\")\n",
        "\n",
        "# Calling the decorated function\n",
        "say_hello(\"pankaj kumar\")"
      ],
      "metadata": {
        "colab": {
          "base_uri": "https://localhost:8080/"
        },
        "id": "NOPtGdbXQkxh",
        "outputId": "0238aa4e-6fa6-4fa3-f1ae-223b503c8587"
      },
      "execution_count": 49,
      "outputs": [
        {
          "output_type": "stream",
          "name": "stdout",
          "text": [
            "Starting execution - Function: say_hello\n",
            "Hello, pankaj kumar!\n",
            "Finished execution - Function: say_hello\n"
          ]
        }
      ]
    },
    {
      "cell_type": "markdown",
      "source": [
        "Question 50)  Create two decorators, and apply them to a single function. Ensure that they execute in the order they are\n",
        "applied?\n"
      ],
      "metadata": {
        "id": "P_BfgyqkQpUx"
      }
    },
    {
      "cell_type": "code",
      "source": [
        "def decorator_one(func):\n",
        "    def wrapper(*args, **kwargs):\n",
        "        print(\"Decorator One: Before function execution\")\n",
        "        result = func(*args, **kwargs)  # Call the original function\n",
        "        print(\"Decorator One: After function execution\")\n",
        "        return result\n",
        "    return wrapper\n",
        "\n",
        "def decorator_two(func):\n",
        "    def wrapper(*args, **kwargs):\n",
        "        print(\"Decorator Two: Before function execution\")\n",
        "        result = func(*args, **kwargs)  # Call the original function\n",
        "        print(\"Decorator Two: After function execution\")\n",
        "        return result\n",
        "    return wrapper\n",
        "\n",
        "@decorator_two  # Outer decorator\n",
        "@decorator_one   # Inner decorator\n",
        "def say_hello(name):\n",
        "    print(f\"Hello, {name}!\")\n",
        "\n",
        "# Calling the decorated function\n",
        "say_hello(\"pankaj\")"
      ],
      "metadata": {
        "colab": {
          "base_uri": "https://localhost:8080/"
        },
        "id": "cwAOrKZcQsla",
        "outputId": "8d264ec5-2181-48fb-a2b6-801891fc5e99"
      },
      "execution_count": 50,
      "outputs": [
        {
          "output_type": "stream",
          "name": "stdout",
          "text": [
            "Decorator Two: Before function execution\n",
            "Decorator One: Before function execution\n",
            "Hello, pankaj!\n",
            "Decorator One: After function execution\n",
            "Decorator Two: After function execution\n"
          ]
        }
      ]
    },
    {
      "cell_type": "markdown",
      "source": [
        "Question 51)  Modify the decorator to accept and pass function arguments to the wrapped function"
      ],
      "metadata": {
        "id": "lin_rwkrQxAL"
      }
    },
    {
      "cell_type": "code",
      "source": [
        "def decorator_one(func):\n",
        "    def wrapper(*args, **kwargs):\n",
        "        print(\"Decorator One: Before function execution\")\n",
        "        result = func(*args, **kwargs)  # Call the original function with arguments\n",
        "        print(\"Decorator One: After function execution\")\n",
        "        return result\n",
        "    return wrapper\n",
        "\n",
        "def decorator_two(func):\n",
        "    def wrapper(*args, **kwargs):\n",
        "        print(\"Decorator Two: Before function execution\")\n",
        "        result = func(*args, **kwargs)  # Call the original function with arguments\n",
        "        print(\"Decorator Two: After function execution\")\n",
        "        return result\n",
        "    return wrapper\n",
        "\n",
        "@decorator_two  # Outer decorator\n",
        "@decorator_one   # Inner decorator\n",
        "def say_hello(name, greeting=\"Hello\"):\n",
        "    print(f\"{greeting}, {name}!\")\n",
        "\n",
        "# Calling the decorated function with arguments\n",
        "say_hello(\"pankaj\", greeting=\"Hi\")"
      ],
      "metadata": {
        "colab": {
          "base_uri": "https://localhost:8080/"
        },
        "id": "yfKZcZIlQ4wK",
        "outputId": "c6c6ea45-8118-435f-c6af-39174c738a82"
      },
      "execution_count": 51,
      "outputs": [
        {
          "output_type": "stream",
          "name": "stdout",
          "text": [
            "Decorator Two: Before function execution\n",
            "Decorator One: Before function execution\n",
            "Hi, pankaj!\n",
            "Decorator One: After function execution\n",
            "Decorator Two: After function execution\n"
          ]
        }
      ]
    },
    {
      "cell_type": "markdown",
      "source": [
        "Question 52)Create a decorator that preserves the metadata of the original function?"
      ],
      "metadata": {
        "id": "RYwfbGf2Q93c"
      }
    },
    {
      "cell_type": "code",
      "source": [
        "import functools\n",
        "\n",
        "def preserve_metadata(func):\n",
        "    @functools.wraps(func)  # This will preserve the metadata of the original function\n",
        "    def wrapper(*args, **kwargs):\n",
        "        print(\"Before function execution\")\n",
        "        result = func(*args, **kwargs)  # Call the original function\n",
        "        print(\"After function execution\")\n",
        "        return result\n",
        "    return wrapper\n",
        "\n",
        "@preserve_metadata\n",
        "def say_hello(name):\n",
        "    \"\"\"Greets the person with the given name.\"\"\"\n",
        "    print(f\"Hello, {name}!\")\n",
        "\n",
        "# Calling the decorated function\n",
        "say_hello(\"pankaj\")\n"
      ],
      "metadata": {
        "colab": {
          "base_uri": "https://localhost:8080/"
        },
        "id": "dBtOWUXkRA8w",
        "outputId": "7c3e63c9-bcc6-40a6-bc66-e270f2265c39"
      },
      "execution_count": 52,
      "outputs": [
        {
          "output_type": "stream",
          "name": "stdout",
          "text": [
            "Before function execution\n",
            "Hello, pankaj!\n",
            "After function execution\n"
          ]
        }
      ]
    },
    {
      "cell_type": "markdown",
      "source": [
        "Question 53)  Create a Python class `Calculator` with a static method `add` that takes in two numbers and returns their\n",
        "sum"
      ],
      "metadata": {
        "id": "KAnY4_mURDtA"
      }
    },
    {
      "cell_type": "code",
      "source": [
        "class Calculator:\n",
        "    @staticmethod\n",
        "    def add(a, b):\n",
        "        \"\"\"Returns the sum of two numbers.\"\"\"\n",
        "        return a + b\n",
        "\n",
        "# Example usage\n",
        "if __name__ == \"__main__\":\n",
        "    result = Calculator.add(5, 3)\n",
        "    print(f\"The sum of 5 and 3 is: {result}\")"
      ],
      "metadata": {
        "colab": {
          "base_uri": "https://localhost:8080/"
        },
        "id": "F1OJrDkTRGvy",
        "outputId": "e9eb7cb8-ee49-4c07-b51d-dbf1efc32fd2"
      },
      "execution_count": 53,
      "outputs": [
        {
          "output_type": "stream",
          "name": "stdout",
          "text": [
            "The sum of 5 and 3 is: 8\n"
          ]
        }
      ]
    },
    {
      "cell_type": "markdown",
      "source": [
        "Question 54) Create a Python class `Employee` with a class `method get_employee_count` that returns the total\n",
        "number of employees created?\n"
      ],
      "metadata": {
        "id": "tr3wnfL8RJQ-"
      }
    },
    {
      "cell_type": "code",
      "source": [
        "class Employee:\n",
        "    # Class variable to keep track of the number of employees\n",
        "    employee_count = 0\n",
        "\n",
        "    def __init__(self, name):\n",
        "        self.name = name\n",
        "        Employee.employee_count += 1  # Increment the count when a new employee is created\n",
        "\n",
        "    @classmethod\n",
        "    def get_employee_count(cls):\n",
        "        \"\"\"Returns the total number of employees created.\"\"\"\n",
        "        return cls.employee_count\n",
        "\n",
        "# Example usage\n",
        "if __name__ == \"__main__\":\n",
        "    emp1 = Employee(\"Alice\")\n",
        "    emp2 = Employee(\"Bob\")\n",
        "\n",
        "    emp3 = Employee(\"Charlie\")\n",
        "    print(f\"Total number of employees: {Employee.get_employee_count()}\")"
      ],
      "metadata": {
        "colab": {
          "base_uri": "https://localhost:8080/"
        },
        "id": "EjahWelgRKYk",
        "outputId": "14bc7fac-6432-4d95-a8f1-a6d9394b8efa"
      },
      "execution_count": 54,
      "outputs": [
        {
          "output_type": "stream",
          "name": "stdout",
          "text": [
            "Total number of employees: 3\n"
          ]
        }
      ]
    },
    {
      "cell_type": "markdown",
      "source": [
        "Question 55) Create a Python class `StringFormatter` with a static method `reverse_string` that takes a string as input\n",
        "and returns its reverse"
      ],
      "metadata": {
        "id": "Sgi3FIcNRQDG"
      }
    },
    {
      "cell_type": "code",
      "source": [
        "class StringFormatter:\n",
        "    @staticmethod\n",
        "    def reverse_string(s):\n",
        "        \"\"\"Returns the reverse of the input string.\"\"\"\n",
        "        return s[::-1]\n",
        "\n",
        "# Example usage\n",
        "if __name__ == \"__main__\":\n",
        "    original_string = \"Hello, World!\"\n",
        "    reversed_string = StringFormatter.reverse_string(original_string)\n",
        "    print(f\"Original string: {original_string}\")\n",
        "    print(f\"Reversed string: {reversed_string}\")"
      ],
      "metadata": {
        "colab": {
          "base_uri": "https://localhost:8080/"
        },
        "id": "d9BeiWlSRkrQ",
        "outputId": "bd7f5975-c62f-4ec7-d13d-b399feb6ab91"
      },
      "execution_count": 56,
      "outputs": [
        {
          "output_type": "stream",
          "name": "stdout",
          "text": [
            "Original string: Hello, World!\n",
            "Reversed string: !dlroW ,olleH\n"
          ]
        }
      ]
    },
    {
      "cell_type": "markdown",
      "source": [
        "Question 56)Create a Python class `Circle` with a class method `calculate_area` that calculates the area of a circle\n",
        "given its radius"
      ],
      "metadata": {
        "id": "G6vGgUvIRqMI"
      }
    },
    {
      "cell_type": "code",
      "source": [
        "import math\n",
        "\n",
        "class Circle:\n",
        "    @classmethod\n",
        "    def calculate_area(cls, radius):\n",
        "        \"\"\"Calculates the area of a circle given its radius.\"\"\"\n",
        "        if radius < 0:\n",
        "            raise ValueError(\"Radius cannot be negative.\")\n",
        "        return math.pi * (radius ** 2)\n",
        "\n",
        "# Example usage\n",
        "if __name__ == \"__main__\":\n",
        "    radius = 5\n",
        "    area = Circle.calculate_area(radius)\n",
        "    print(f\"The area of a circle with radius {radius} is: {area:.2f}\")"
      ],
      "metadata": {
        "colab": {
          "base_uri": "https://localhost:8080/"
        },
        "id": "JWBuS3I2RtKG",
        "outputId": "aac7353f-779b-4123-ba7b-1cd40abe756e"
      },
      "execution_count": 57,
      "outputs": [
        {
          "output_type": "stream",
          "name": "stdout",
          "text": [
            "The area of a circle with radius 5 is: 78.54\n"
          ]
        }
      ]
    },
    {
      "cell_type": "markdown",
      "source": [
        "Question 57)Create a Python class `TemperatureConverter` with a static method `celsius_to_fahrenheit` that converts\n",
        "Celsius to Fahrenheit"
      ],
      "metadata": {
        "id": "Vt0t6xSqRvlw"
      }
    },
    {
      "cell_type": "code",
      "source": [
        "class TemperatureConverter:\n",
        "    @staticmethod\n",
        "    def celsius_to_fahrenheit(celsius):\n",
        "        \"\"\"Converts Celsius to Fahrenheit.\"\"\"\n",
        "        return (celsius * 9/5) + 32\n",
        "\n",
        "# Example usage\n",
        "if __name__ == \"__main__\":\n",
        "    celsius_temp = 25  # Example temperature in Celsius\n",
        "    fahrenheit_temp = TemperatureConverter.celsius_to_fahrenheit(celsius_temp)\n",
        "    print(f\"{celsius_temp}°C is equal to {fahrenheit_temp}°F\")"
      ],
      "metadata": {
        "colab": {
          "base_uri": "https://localhost:8080/"
        },
        "id": "07gpmhFoRyHm",
        "outputId": "df600d5e-6a14-4699-8ee4-a3478d5133c3"
      },
      "execution_count": 58,
      "outputs": [
        {
          "output_type": "stream",
          "name": "stdout",
          "text": [
            "25°C is equal to 77.0°F\n"
          ]
        }
      ]
    },
    {
      "cell_type": "markdown",
      "source": [
        "Question 58) What is the purpose of the __str__() method in Python classes? Provide an example?\n",
        "\n",
        "The __str__() method in Python classes is a special method that is used to define a string representation of an instance of the class. When you use the print() function or str() on an object, Python calls the __str__() method to obtain a string that represents the object in a human-readable format. This is particularly useful for debugging and logging, as it allows you to provide meaningful descriptions of your objects"
      ],
      "metadata": {
        "id": "6CHfandjR0yL"
      }
    },
    {
      "cell_type": "code",
      "source": [
        "class Person:\n",
        "    def __init__(self, name, age):\n",
        "        self.name = name\n",
        "        self.age = age\n",
        "\n",
        "    def __str__(self):\n",
        "        return f\"Person(Name: {self.name}, Age: {self.age})\"\n",
        "\n",
        "# Example usage\n",
        "if __name__ == \"__main__\":\n",
        "    person = Person(\"pankaj\", 30)\n",
        "    print(person)  # This will call person.__str__()"
      ],
      "metadata": {
        "colab": {
          "base_uri": "https://localhost:8080/"
        },
        "id": "B-1I-smHR5ED",
        "outputId": "a99d6c10-49e8-4373-b4dc-5a51fdbea487"
      },
      "execution_count": 59,
      "outputs": [
        {
          "output_type": "stream",
          "name": "stdout",
          "text": [
            "Person(Name: pankaj, Age: 30)\n"
          ]
        }
      ]
    },
    {
      "cell_type": "markdown",
      "source": [
        "Question 59) How does the __len__() method work in Python? Provide an example?\n",
        "\n",
        "The __len__() method in Python is a special method that allows you to define the behavior of the built-in len() function for instances of your custom classes. When you implement the __len__() method in a class, you can specify what it means for an object of that class to have a length."
      ],
      "metadata": {
        "id": "PWbvKXbNR7wN"
      }
    },
    {
      "cell_type": "code",
      "source": [
        "class MyList:\n",
        "    def __init__(self, items):\n",
        "        self.items = items\n",
        "\n",
        "    def __len__(self):\n",
        "        return len(self.items)\n",
        "\n",
        "# Example usage\n",
        "if __name__ == \"__main__\":\n",
        "    my_list = MyList([1, 2, 3, 4, 5])\n",
        "    print(f\"The length of my_list is: {len(my_list)}\")"
      ],
      "metadata": {
        "colab": {
          "base_uri": "https://localhost:8080/"
        },
        "id": "X4nv9orWR_e8",
        "outputId": "7fcca3c9-0077-4a45-94f4-8ffe2d63da49"
      },
      "execution_count": 60,
      "outputs": [
        {
          "output_type": "stream",
          "name": "stdout",
          "text": [
            "The length of my_list is: 5\n"
          ]
        }
      ]
    },
    {
      "cell_type": "markdown",
      "source": [
        "Question 60) Explain the usage of the __add__() method in Python classes. Provide an example?\n",
        "\n",
        "The __add__() method in Python is a special method, also known as a magic method or dunder method, that allows you to define the behavior of the addition operator (+) for instances of your custom classes. By implementing this method, you can enable your objects to be added together using the + operator, which enhances the usability and readability of your code"
      ],
      "metadata": {
        "id": "qGGdgd7ISCJG"
      }
    },
    {
      "cell_type": "code",
      "source": [
        "class GFG:\n",
        "    def __init__(self, val):\n",
        "        self.val = val\n",
        "\n",
        "    def __add__(self, other):\n",
        "        # Ensure that the other object is of the same type\n",
        "\n",
        "            return GFG(self.val + other.val)\n",
        "\n",
        "\n",
        "# Creating instances of GFG\n",
        "obj1 = GFG(\"Geeks\")\n",
        "obj2 = GFG(\"ForGeeks\")\n",
        "\n",
        "# Using the + operator, which calls the __add__ method\n",
        "obj3 = obj1 + obj2\n",
        "\n",
        "# Printing the result\n",
        "print(obj3.val)  # Output: GeeksForGeeks"
      ],
      "metadata": {
        "colab": {
          "base_uri": "https://localhost:8080/"
        },
        "id": "RlycqdN2SHVL",
        "outputId": "8f346545-40f6-42e9-e908-5c7051caa927"
      },
      "execution_count": 61,
      "outputs": [
        {
          "output_type": "stream",
          "name": "stdout",
          "text": [
            "GeeksForGeeks\n"
          ]
        }
      ]
    },
    {
      "cell_type": "markdown",
      "source": [
        "Question 61)What is the purpose of the __getitem__() method in Python? Provide an example?\n",
        "\n",
        "The __getitem__() method in Python is a special method, also known as a magic method or dunder method, that allows you to define the behavior of indexing operations (e.g., obj[key]) for instances of your custom classes. By implementing this method, you can enable your objects to be indexed, making them more versatile and user-friendly."
      ],
      "metadata": {
        "id": "X5KeupT6SKMs"
      }
    },
    {
      "cell_type": "code",
      "source": [
        "class MyDict:\n",
        "    def __init__(self):\n",
        "        self.data = {}\n",
        "\n",
        "    def __setitem__(self, key, value):\n",
        "        self.data[key] = value\n",
        "\n",
        "    def __getitem__(self, key):\n",
        "        return self.data[key]\n",
        "\n",
        "    def __str__(self):\n",
        "        return str(self.data)\n",
        "\n",
        "# Creating an instance of MyDict\n",
        "my_dict = MyDict()\n",
        "\n",
        "# Setting values using the [] operator, which calls the __setitem__ method\n",
        "my_dict['name'] = 'pankaj'\n",
        "my_dict['age'] = 30\n",
        "\n",
        "# Getting values using the [] operator, which calls the __getitem__ method\n"
      ],
      "metadata": {
        "id": "Kj-VupI2SNOM"
      },
      "execution_count": 62,
      "outputs": []
    },
    {
      "cell_type": "markdown",
      "source": [
        "Question 62)Explain the usage of the iter() and next() methods in Python. Provide an example using iterators?\n",
        "\n",
        "In Python, the __iter__() and __next__() methods are used to create iterator objects, which allow you to traverse through a collection of items (like lists, tuples, or custom collections) one element at a time. These methods are part of the iterator protocol, which consists of two main components: an iterable and an iterator."
      ],
      "metadata": {
        "id": "ViyahkceSPp1"
      }
    },
    {
      "cell_type": "code",
      "source": [
        "class CountDown:\n",
        "    def __init__(self, start):\n",
        "        self.current = start\n",
        "\n",
        "    def __iter__(self):\n",
        "        return self  # The iterator object itself\n",
        "\n",
        "    def __next__(self):\n",
        "        if self.current < 0:\n",
        "            raise StopIteration  # Signal that the iteration is complete\n",
        "        else:\n",
        "            current_value = self.current\n",
        "            self.current -= 1  # Decrement for the next call\n",
        "            return current_value\n",
        "\n",
        "# Creating an instance of CountDown\n",
        "countdown = CountDown(5)\n",
        "\n",
        "# Using the iterator in a for loop\n",
        "for number in countdown:\n",
        "    print(number)"
      ],
      "metadata": {
        "colab": {
          "base_uri": "https://localhost:8080/"
        },
        "id": "v759zKcHSSJQ",
        "outputId": "f8df568f-18a3-4084-9c39-51d937e374fc"
      },
      "execution_count": 63,
      "outputs": [
        {
          "output_type": "stream",
          "name": "stdout",
          "text": [
            "5\n",
            "4\n",
            "3\n",
            "2\n",
            "1\n",
            "0\n"
          ]
        }
      ]
    },
    {
      "cell_type": "markdown",
      "source": [
        "Question 63)What is the purpose of a getter method in Python? Provide an example demonstrating the use of a getter\n",
        "method using property decorators?\n",
        "\n",
        "Purpose of a Getter Method in Python\n",
        "\n",
        "In Python, a getter method is a special method that allows you to define how to access a property (attribute) of an object. The primary purpose of a getter method is to:\n",
        "\n",
        "Control access: Provide a way to access an attribute while controlling how it's accessed, modified, or computed.\n",
        "Encapsulate data: Hide internal implementation details and expose a public interface to access the data.\n",
        "Compute on demand: Compute the value of an attribute only when it's requested, rather than storing it as an instance variable."
      ],
      "metadata": {
        "id": "gkmMavLJSVII"
      }
    },
    {
      "cell_type": "code",
      "source": [
        "\n",
        "class Person:\n",
        "    def __init__(self, first_name, last_name):\n",
        "        self._first_name = first_name\n",
        "        self._last_name = last_name\n",
        "\n",
        "    @property\n",
        "    def full_name(self):\n",
        "        return f\"{self._first_name} {self._last_name}\"\n",
        "\n",
        "person = Person(\"pankaj\", \"prajapati\")\n",
        "print(person.full_name)  # Output: John Doe"
      ],
      "metadata": {
        "colab": {
          "base_uri": "https://localhost:8080/"
        },
        "id": "x5KxlVuOSY5S",
        "outputId": "58b557ca-0c06-42a9-ffab-99d483ed0b04"
      },
      "execution_count": 64,
      "outputs": [
        {
          "output_type": "stream",
          "name": "stdout",
          "text": [
            "pankaj prajapati\n"
          ]
        }
      ]
    },
    {
      "cell_type": "markdown",
      "source": [
        "Question 64)Explain the role of setter methods in Python. Demonstrate how to use a setter method to modify a class\n",
        "attribute using property decorator?\n",
        "\n",
        "Role of Setter Methods in Python:-\n",
        "\n",
        "Setter methods in Python are used to control the modification of an object's attributes. They provide a way to set the value of an attribute while allowing for validation, transformation, or any additional logic that needs to be executed when an attribute is modified. By using setter methods, you can encapsulate the internal state of an object and enforce certain rules or constraints when setting values."
      ],
      "metadata": {
        "id": "-hEXZyJaSb0Y"
      }
    },
    {
      "cell_type": "code",
      "source": [
        "class Person:\n",
        "    def __init__(self, first_name, last_name):\n",
        "        self._first_name = first_name\n",
        "        self._last_name = last_name\n",
        "\n",
        "    @property\n",
        "    def full_name(self):\n",
        "        return f\"{self._first_name} {self._last_name}\"\n",
        "\n",
        "    @full_name.setter\n",
        "    def full_name(self, name):\n",
        "        first_name, last_name = name.split(\" \")\n",
        "        self._first_name = first_name\n",
        "        self._last_name = last_name\n",
        "\n",
        "# Creating an instance of Person\n",
        "person = Person(\"pankaj\", \"prajapti\")\n",
        "\n",
        "# Accessing the full_name property\n",
        "print(person.full_name)  # Output: pankaj prajapti\n",
        "\n",
        "# Modifying the full_name property using the setter\n",
        "person.full_name = \"Jane Smith\"\n",
        "\n",
        "# Accessing the modified full_name property\n",
        "print(person.full_name)  # Output: Jane Smith"
      ],
      "metadata": {
        "colab": {
          "base_uri": "https://localhost:8080/"
        },
        "id": "DfjuLoQ4SeC0",
        "outputId": "87e1f706-f1b0-47e8-ab95-40b5d3d56500"
      },
      "execution_count": 65,
      "outputs": [
        {
          "output_type": "stream",
          "name": "stdout",
          "text": [
            "pankaj prajapti\n",
            "Jane Smith\n"
          ]
        }
      ]
    },
    {
      "cell_type": "markdown",
      "source": [
        "Question 65)What is the purpose of the @property decorator in Python? Provide an example illustrating its usage?\n",
        "\n",
        "The @property decorator in Python is used to define a method as a property, allowing you to access it like an attribute while still providing the functionality of a method. This decorator is part of Python's property management system, which allows for encapsulation of class attributes and provides a way to control how attributes are accessed and modified.\n",
        "\n"
      ],
      "metadata": {
        "id": "3mnAi_N7Sh5s"
      }
    },
    {
      "cell_type": "code",
      "source": [
        "class Rectangle:\n",
        "    def __init__(self, width, height):\n",
        "        self._width = width\n",
        "        self._height = height\n",
        "\n",
        "    @property\n",
        "    def width(self):\n",
        "        return self._width\n",
        "\n",
        "    @width.setter\n",
        "    def width(self, value):\n",
        "        if value <= 0:\n",
        "            raise ValueError(\"Width must be positive\")\n",
        "        self._width = value\n",
        "\n",
        "    @property\n",
        "    def height(self):\n",
        "        return self._height\n",
        "\n",
        "    @height.setter\n",
        "    def height(self, value):\n",
        "        if value <= 0:\n",
        "            raise ValueError(\"Height must be positive\")\n",
        "        self._height = value\n",
        "\n",
        "    @property\n",
        "    def area(self):\n",
        "        return self._width * self._height\n",
        "\n",
        "# Example usage\n",
        "rect = Rectangle(5, 10)\n",
        "\n",
        "# Accessing properties\n",
        "print(f\"Width: {rect.width}\")  # Output: Width: 5\n",
        "print(f\"Height: {rect.height}\")  # Output: Height: 10\n",
        "print(f\"Area: {rect.area}\")  # Output: Area: 50\n",
        "\n",
        "# Modifying properties\n",
        "rect.width = 7\n",
        "rect.height = 12\n",
        "\n",
        "print(f\"Updated Width: {rect.width}\")  # Output: Updated Width: 7\n",
        "print(f\"Updated Height: {rect.height}\")  # Output: Updated Height: 12\n",
        "print(f\"Updated Area: {rect.area}\")  # Output: Updated Area: 84\n",
        "\n",
        "# Attempting to set a negative width\n",
        "try:\n",
        "    rect.width = -3\n",
        "except ValueError as e:\n",
        "  print(e)\n"
      ],
      "metadata": {
        "colab": {
          "base_uri": "https://localhost:8080/"
        },
        "id": "6BnS1jRlSk_r",
        "outputId": "4c84ddd7-4c96-46fd-ec6e-07356dacceb9"
      },
      "execution_count": 66,
      "outputs": [
        {
          "output_type": "stream",
          "name": "stdout",
          "text": [
            "Width: 5\n",
            "Height: 10\n",
            "Area: 50\n",
            "Updated Width: 7\n",
            "Updated Height: 12\n",
            "Updated Area: 84\n",
            "Width must be positive\n"
          ]
        }
      ]
    },
    {
      "cell_type": "markdown",
      "source": [
        "Question 66)Explain the use of the @deleter decorator in Python property decorators. Provide a code example\n",
        "demonstrating its application?\n",
        "\n",
        "The @deleter decorator in Python is part of the property management system and is used to define a method that can delete a property from an object. This allows you to control how a property is removed and provides an opportunity to implement any necessary cleanup or validation logic when a property is deleted."
      ],
      "metadata": {
        "id": "MHDbQh6nSo-S"
      }
    },
    {
      "cell_type": "code",
      "source": [
        "class Configuration:\n",
        "    def __init__(self):\n",
        "        self._setting = None\n",
        "\n",
        "    @property\n",
        "    def setting(self):\n",
        "        return self._setting\n",
        "\n",
        "    @setting.setter\n",
        "    def setting(self, value):\n",
        "        if not isinstance(value, str):\n",
        "            raise ValueError(\"Setting must be a string\")\n",
        "        self._setting = value\n",
        "\n",
        "    @setting.deleter\n",
        "    def setting(self):\n",
        "        print(\"Deleting the setting...\")\n",
        "        del self._setting\n",
        "\n",
        "# Example usage\n",
        "config = Configuration()\n",
        "\n",
        "# Setting a value\n",
        "config.setting = \"Dark Mode\"\n",
        "print(config.setting)  # Output: Dark Mode\n",
        "\n",
        "# Deleting the setting\n",
        "del config.setting  # Output: Deleting the setting...\n",
        "\n",
        "# Attempting to access the deleted setting\n",
        "try:\n",
        "    print(config.setting)  # This will raise an AttributeError\n",
        "except AttributeError as e:\n",
        "    print(e)  # Output: 'Configuration' object no attributes setting"
      ],
      "metadata": {
        "colab": {
          "base_uri": "https://localhost:8080/"
        },
        "id": "ImqtSAXoSrug",
        "outputId": "330c8b2f-32b7-400e-a2c0-1f05646e5a5f"
      },
      "execution_count": 67,
      "outputs": [
        {
          "output_type": "stream",
          "name": "stdout",
          "text": [
            "Dark Mode\n",
            "Deleting the setting...\n",
            "'Configuration' object has no attribute '_setting'\n"
          ]
        }
      ]
    },
    {
      "cell_type": "markdown",
      "source": [
        "Question 67)How does encapsulation relate to property decorators in Python? Provide an example showcasing\n",
        "encapsulation using property decorators.?\n",
        "\n",
        "Encapsulation is a fundamental concept in object-oriented programming that restricts direct access to some of an object's attributes and methods. This is typically done to protect the internal state of an object and to provide a controlled interface for interacting with that state.\n",
        "\n",
        "In Python, property decorators (@property, @<property_name>.setter, and @<property_name>.deleter) are a way to implement encapsulation. They allow you to define methods that can be accessed like attributes, enabling you to control how an attribute is accessed, modified, or deleted while keeping the internal representation private.\n",
        "\n",
        "Here's an example that illustrates encapsulation using property decorators:"
      ],
      "metadata": {
        "id": "5gKsYp6nSuwE"
      }
    },
    {
      "cell_type": "code",
      "source": [
        "class BankAccount:\n",
        "    def __init__(self, owner, balance=0):\n",
        "        self._owner = owner  # Private attribute\n",
        "        self._balance = balance  # Private attribute\n",
        "\n",
        "    @property\n",
        "    def balance(self):\n",
        "        \"\"\"Get the current balance.\"\"\"\n",
        "        return self._balance\n",
        "\n",
        "    @balance.setter\n",
        "    def balance(self, amount):\n",
        "        \"\"\"Set the balance, ensuring it cannot be negative.\"\"\"\n",
        "        if amount < 0:\n",
        "            raise ValueError(\"Balance cannot be negative.\")\n",
        "        self._balance = amount\n",
        "\n",
        "    @property\n",
        "    def owner(self):\n",
        "        \"\"\"Get the owner's name.\"\"\"\n",
        "        return self._owner\n",
        "\n",
        "    def deposit(self, amount):\n",
        "        \"\"\"Deposit money into the account.\"\"\"\n",
        "        if amount <= 0:\n",
        "            raise ValueError(\"Deposit amount must be positive.\")\n",
        "        self._balance += amount\n",
        "\n",
        "    def withdraw(self, amount):\n",
        "        \"\"\"Withdraw money from the account.\"\"\"\n",
        "        if amount <= 0:\n",
        "            raise ValueError(\"Withdrawal amount must be positive.\")\n",
        "        if amount > self._balance:\n",
        "            raise ValueError(\"Insufficient funds.\")\n",
        "        self._balance -= amount\n",
        "\n",
        "# Example usage\n",
        "account = BankAccount(\"Alice\", 100)\n",
        "print(account.balance)  # Output: 100\n",
        "\n",
        "account.deposit(50)\n",
        "print(account.balance)  # Output: 150\n",
        "\n",
        "account.withdraw(30)\n",
        "print(account.balance)  # Output: 120\n",
        "\n",
        "try:\n",
        "    account.balance = -50  # This will raise a ValueError\n",
        "except ValueError as e:\n",
        "    print(e)  # Output: Balance cannot be negative.\n",
        "\n",
        "print(account.owner)  # Output: Alice"
      ],
      "metadata": {
        "colab": {
          "base_uri": "https://localhost:8080/"
        },
        "id": "ukWBxFYASy27",
        "outputId": "663d2156-efa8-46af-9cf6-5076144d3270"
      },
      "execution_count": 68,
      "outputs": [
        {
          "output_type": "stream",
          "name": "stdout",
          "text": [
            "100\n",
            "150\n",
            "120\n",
            "Balance cannot be negative.\n",
            "Alice\n"
          ]
        }
      ]
    }
  ]
}